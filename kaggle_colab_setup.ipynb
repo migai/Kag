{
  "nbformat": 4,
  "nbformat_minor": 0,
  "metadata": {
    "colab": {
      "name": "kaggle_colab_setup.ipynb",
      "provenance": [],
      "collapsed_sections": []
    },
    "kernelspec": {
      "name": "python3",
      "display_name": "Python 3"
    }
  },
  "cells": [
    {
      "cell_type": "code",
      "metadata": {
        "id": "h0e2irhtvlIT",
        "colab_type": "code",
        "colab": {}
      },
      "source": [
        "# Utility File to Load Data for Coursera Kaggle Competition, from \"migai/Kag\" repository\n",
        "import os\n",
        "import pandas as pd\n",
        "\n",
        "def download_file(url, file_path):\n",
        "    print(url, file_path)\n",
        "    if os.path.exists(file_path):\n",
        "        os.remove(file_path)\n",
        "    template = \"wget '{}' -O '{}'\"\n",
        "    os.system(template.format(url, file_path))\n",
        "\n",
        "\n",
        "def download_github_code(path):\n",
        "    repo = 'Kag/blob'\n",
        "    branch = 'master'\n",
        "    url = 'https://github.com/migai/{}/{}/{}'\n",
        "    file_path = path.rsplit(\"/\")[-1]\n",
        "    download_file(url.format(repo, branch, path), file_path)\n",
        "\n",
        "\n",
        "def download_github_with_pd_csv(path, df_name):\n",
        "    repo = 'Kag/blob'\n",
        "    branch = 'master'\n",
        "    url = 'https://github.com/migai/{}/{}/{}'\n",
        "    file_path = path.rsplit(\"/\")[-1]\n",
        "    download_file(url.format(repo, branch, path), file_path)\n",
        "    df_name = pd.read_csv(file_path)\n",
        "\n",
        "\n",
        "def load_data():\n",
        "    download_github_code(\"utils/kag_utils.py\")\n",
        "\t\n",
        "\t  transactions = pd.DataFrame() \n",
        "\t  items = pd.DataFrame() \n",
        "\t  item_categories = pd.DataFrame() \n",
        "\t  shops = pd.DataFrame() \n",
        "\t  download_github_with_pd_csv(\"readonly/final_project_data/sales_train.csv.gz\", transactions)\n",
        "\t  download_github_with_pd_csv(\"readonly/final_project_data/items.csv\", items)\n",
        "\t  download_github_with_pd_csv(\"readonly/final_project_data/item_categories.csv\", item_categories)\n",
        "\t  download_github_with_pd_csv(\"readonly/final_project_data/shops.csv\", shops)\n",
        "\t\n",
        "\t  return"
      ],
      "execution_count": 0,
      "outputs": []
    }
  ]
}