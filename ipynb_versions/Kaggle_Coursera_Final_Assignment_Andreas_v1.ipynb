{
  "nbformat": 4,
  "nbformat_minor": 0,
  "metadata": {
    "colab": {
      "name": "Copy of Kaggle_Coursera_Final_Assignment.ipynb",
      "provenance": [],
      "collapsed_sections": []
    },
    "kernelspec": {
      "name": "python3",
      "display_name": "Python 3"
    },
    "accelerator": "GPU"
  },
  "cells": [
    {
      "cell_type": "markdown",
      "metadata": {
        "id": "ufy-J0xC2efV",
        "colab_type": "text"
      },
      "source": [
        "## First things first\n",
        "* Click **File -> Save a copy in Drive** and click **Open in new tab** in the pop-up window to save your progress in Google Drive.\n",
        "* Click **Runtime -> Change runtime type** and select **GPU** in Hardware accelerator box to enable faster GPU training."
      ]
    },
    {
      "cell_type": "markdown",
      "metadata": {
        "id": "YPp_Nesy2yxn",
        "colab_type": "text"
      },
      "source": [
        "#**Final Project for Coursera's 'How to Win a Data Science Competition'**\n",
        "April, 2020\n",
        "\n",
        "Andreas Theodoulou and Michael Gaidis\n",
        "\n",
        "(Competition Info last updated:  3 years ago)"
      ]
    },
    {
      "cell_type": "markdown",
      "metadata": {
        "id": "r_Oe76PW3aoN",
        "colab_type": "text"
      },
      "source": [
        "##**About this Competition**\n",
        "\n",
        "You are provided with daily historical sales data. The task is to forecast the total amount of products sold in every shop for the test set. Note that the list of shops and products slightly changes every month. Creating a robust model that can handle such situations is part of the challenge.\n",
        "\n",
        "Evaluation: root mean squared error (RMSE). True target values are clipped into [0,20] range.\n",
        "\n",
        ".\n",
        "\n",
        "##**File descriptions**\n",
        "\n",
        "***sales_train.csv*** - the training set. Daily historical data from January 2013 to October 2015.\n",
        "\n",
        "***test.csv*** - the test set. You need to forecast the sales for these shops and products for November 2015.\n",
        "\n",
        "***sample_submission.csv*** - a sample submission file in the correct format.\n",
        "\n",
        "***items.csv*** - supplemental information about the items/products.\n",
        "\n",
        "***item_categories.csv***  - supplemental information about the items categories.\n",
        "\n",
        "***shops.csv***- supplemental information about the shops.\n",
        "\n",
        ".\n",
        "\n",
        "##**Data fields**\n",
        "\n",
        "***ID*** - an Id that represents a (Shop, Item) tuple within the test set\n",
        "\n",
        "***shop_id*** - unique identifier of a shop\n",
        "\n",
        "***item_id*** - unique identifier of a product\n",
        "\n",
        "***item_category_id*** - unique identifier of item category\n",
        "\n",
        "***item_cnt_day*** - number of products sold. You are predicting a monthly amount of this measure\n",
        "\n",
        "***item_price*** - current price of an item\n",
        "\n",
        "***date*** - date in format dd/mm/yyyy\n",
        "\n",
        "***date_block_num*** - a consecutive month number. January 2013 is 0, February 2013 is 1,..., October 2015 is 33\n",
        "\n",
        "***item_name*** - name of item\n",
        "\n",
        "***shop_name*** - name of shop\n",
        "\n",
        "***item_category_name*** - name of item category"
      ]
    },
    {
      "cell_type": "markdown",
      "metadata": {
        "id": "LyLQLqBcOnLt",
        "colab_type": "text"
      },
      "source": [
        "#Load Files\n",
        "Load competition data files and import helpful custom code libraries from shared GitHub repository"
      ]
    },
    {
      "cell_type": "code",
      "metadata": {
        "id": "dy5i7jl00oX-",
        "colab_type": "code",
        "colab": {}
      },
      "source": [
        "# GitHub file location info\n",
        "git_hub_url = \"https://raw.githubusercontent.com/migai/\"\n",
        "repo_name = 'Kag/'\n",
        "branch_name = 'master/'\n",
        "base_url = git_hub_url + repo_name + branch_name\n",
        "\n",
        "# List of the data files (path relative to GitHub branch), to be loaded into pandas DataFrames\n",
        "data_files = [  \"readonly/final_project_data/items.csv\",\n",
        "                \"readonly/final_project_data/item_categories.csv\",\n",
        "                \"readonly/final_project_data/shops.csv\",\n",
        "                \"readonly/final_project_data/sample_submission.csv.gz\",\n",
        "                \"readonly/final_project_data/sales_train.csv.gz\",\n",
        "                \"readonly/final_project_data/test.csv.gz\"  ]\n",
        "\n",
        "# List of helper code files, to be loaded into Colab and available for python import\n",
        "code_files = [  \"kaggle_utils_at_mg.py\"]"
      ],
      "execution_count": 0,
      "outputs": []
    },
    {
      "cell_type": "code",
      "metadata": {
        "id": "tjr80Q4K8bZr",
        "colab_type": "code",
        "colab": {
          "base_uri": "https://localhost:8080/",
          "height": 799
        },
        "outputId": "d63bc572-4fae-47c3-8c67-3fa685bb028d"
      },
      "source": [
        "import pandas as pd\n",
        "import os\n",
        "\n",
        "def xfer_github_to_colab(path):\n",
        "    filename = path.rsplit(\"/\")[-1]\n",
        "    os.system(\"wget \" + base_url + \"{} -O {}\".format(path, filename))\n",
        "    print(base_url + path + \" ---> loaded into ---> \" + filename)\n",
        "    return filename\n",
        "\n",
        "try:\n",
        "    import google.colab\n",
        "    IN_COLAB = True\n",
        "except:\n",
        "    IN_COLAB = False\n",
        "if IN_COLAB:\n",
        "    print(\"Loading Files from GitHub to Colab\\n\")\n",
        "\n",
        "    # Loop to load the above data files into appropriately-named pandas DataFrames\n",
        "    for path_name in data_files:\n",
        "      filename = xfer_github_to_colab(path_name)\n",
        "      data_frame_name = path_name.rsplit(\"/\")[-1].split(\".\")[0]\n",
        "      exec(data_frame_name + \" = pd.read_csv(filename)\")\n",
        "      print(\"Data Frame: \" + data_frame_name)\n",
        "      print(eval(data_frame_name).head(2))\n",
        "      print(\"\\n\")\n",
        "\n",
        "\n",
        "    # to load a code (\".py\") file into Colab, first shred to make sure you aren't using an old version\n",
        "    for path_name in code_files:\n",
        "      filename = path_name.rsplit(\"/\")[-1]\n",
        "      ! shred -u {filename}\n",
        "      filename = xfer_github_to_colab(path_name)"
      ],
      "execution_count": 2,
      "outputs": [
        {
          "output_type": "stream",
          "text": [
            "Loading Files from GitHub to Colab\n",
            "\n",
            "https://raw.githubusercontent.com/migai/Kag/master/readonly/final_project_data/items.csv ---> loaded into ---> items.csv\n",
            "Data Frame: items\n",
            "                                           item_name  item_id  item_category_id\n",
            "0          ! ВО ВЛАСТИ НАВАЖДЕНИЯ (ПЛАСТ.)         D        0                40\n",
            "1  !ABBYY FineReader 12 Professional Edition Full...        1                76\n",
            "\n",
            "\n",
            "https://raw.githubusercontent.com/migai/Kag/master/readonly/final_project_data/item_categories.csv ---> loaded into ---> item_categories.csv\n",
            "Data Frame: item_categories\n",
            "        item_category_name  item_category_id\n",
            "0  PC - Гарнитуры/Наушники                 0\n",
            "1         Аксессуары - PS2                 1\n",
            "\n",
            "\n",
            "https://raw.githubusercontent.com/migai/Kag/master/readonly/final_project_data/shops.csv ---> loaded into ---> shops.csv\n",
            "Data Frame: shops\n",
            "                       shop_name  shop_id\n",
            "0  !Якутск Орджоникидзе, 56 фран        0\n",
            "1  !Якутск ТЦ \"Центральный\" фран        1\n",
            "\n",
            "\n",
            "https://raw.githubusercontent.com/migai/Kag/master/readonly/final_project_data/sample_submission.csv.gz ---> loaded into ---> sample_submission.csv.gz\n",
            "Data Frame: sample_submission\n",
            "   ID  item_cnt_month\n",
            "0   0             0.5\n",
            "1   1             0.5\n",
            "\n",
            "\n",
            "https://raw.githubusercontent.com/migai/Kag/master/readonly/final_project_data/sales_train.csv.gz ---> loaded into ---> sales_train.csv.gz\n",
            "Data Frame: sales_train\n",
            "         date  date_block_num  shop_id  item_id  item_price  item_cnt_day\n",
            "0  02.01.2013               0       59    22154       999.0           1.0\n",
            "1  03.01.2013               0       25     2552       899.0           1.0\n",
            "\n",
            "\n",
            "https://raw.githubusercontent.com/migai/Kag/master/readonly/final_project_data/test.csv.gz ---> loaded into ---> test.csv.gz\n",
            "Data Frame: test\n",
            "   ID  shop_id  item_id\n",
            "0   0        5     5037\n",
            "1   1        5     5320\n",
            "\n",
            "\n",
            "shred: kaggle_utils_at_mg.py: failed to open for writing: No such file or directory\n",
            "https://raw.githubusercontent.com/migai/Kag/master/kaggle_utils_at_mg.py ---> loaded into ---> kaggle_utils_at_mg.py\n"
          ],
          "name": "stdout"
        }
      ]
    },
    {
      "cell_type": "code",
      "metadata": {
        "id": "S01TwEVZ0QqZ",
        "colab_type": "code",
        "colab": {
          "base_uri": "https://localhost:8080/",
          "height": 34
        },
        "outputId": "c53054f2-33a3-43cf-d1e5-09805229c471"
      },
      "source": [
        "# test to check that .py utility file loaded into Colab OK\n",
        "'''\n",
        "import kaggle_utils_at_mg as kag_utils\n",
        "test1 = kag_utils.add_one(2)\n",
        "print(test1)\n",
        "'''"
      ],
      "execution_count": 3,
      "outputs": [
        {
          "output_type": "execute_result",
          "data": {
            "text/plain": [
              "'\\nimport kaggle_utils_at_mg as kag_utils\\ntest1 = kag_utils.add_one(2)\\nprint(test1)\\n'"
            ]
          },
          "metadata": {
            "tags": []
          },
          "execution_count": 3
        }
      ]
    },
    {
      "cell_type": "code",
      "metadata": {
        "id": "naC94KtXOnLt",
        "colab_type": "code",
        "colab": {}
      },
      "source": [
        "import matplotlib.pyplot as plt\n",
        "import numpy as np\n",
        "from itertools import product\n",
        "import time\n",
        "from sklearn.linear_model import LinearRegression\n",
        "import pickle\n",
        "%matplotlib inline\n",
        "\n"
      ],
      "execution_count": 0,
      "outputs": []
    },
    {
      "cell_type": "markdown",
      "metadata": {
        "id": "YQ7tffMSSfn7",
        "colab_type": "text"
      },
      "source": [
        "# **Data Preparation**\n",
        "\n",
        "*   Make data table monthly from daily (is there any point in using the daily data in more advanced modelling versions? Probably just to create more relevant monthly related features (e.g. mean/std or any other type) rather than keeping the format of the table daily)\n",
        "*   To do: Merge item_category_id as a feature\n",
        "\n",
        "\n"
      ]
    },
    {
      "cell_type": "code",
      "metadata": {
        "id": "2uRVAWaX0qqJ",
        "colab_type": "code",
        "colab": {
          "base_uri": "https://localhost:8080/",
          "height": 204
        },
        "outputId": "fc77cc38-1571-4c64-9cb1-605fe95f2e9f"
      },
      "source": [
        "matrix = []\n",
        "cols = ['date_block_num','shop_id','item_id']\n",
        "for i in range(34):\n",
        "    sales = sales_train[sales_train.date_block_num==i]\n",
        "    matrix.append(np.array(list(product([i], sales.shop_id.unique(), sales.item_id.unique())), dtype='int16'))\n",
        "    \n",
        "matrix = pd.DataFrame(np.vstack(matrix), columns=cols)\n",
        "matrix['date_block_num'] = matrix['date_block_num'].astype(np.int8)\n",
        "matrix['shop_id'] = matrix['shop_id'].astype(np.int8)\n",
        "matrix['item_id'] = matrix['item_id'].astype(np.int16)\n",
        "matrix.sort_values(cols,inplace=True)\n",
        "matrix.head()\n"
      ],
      "execution_count": 5,
      "outputs": [
        {
          "output_type": "execute_result",
          "data": {
            "text/html": [
              "<div>\n",
              "<style scoped>\n",
              "    .dataframe tbody tr th:only-of-type {\n",
              "        vertical-align: middle;\n",
              "    }\n",
              "\n",
              "    .dataframe tbody tr th {\n",
              "        vertical-align: top;\n",
              "    }\n",
              "\n",
              "    .dataframe thead th {\n",
              "        text-align: right;\n",
              "    }\n",
              "</style>\n",
              "<table border=\"1\" class=\"dataframe\">\n",
              "  <thead>\n",
              "    <tr style=\"text-align: right;\">\n",
              "      <th></th>\n",
              "      <th>date_block_num</th>\n",
              "      <th>shop_id</th>\n",
              "      <th>item_id</th>\n",
              "    </tr>\n",
              "  </thead>\n",
              "  <tbody>\n",
              "    <tr>\n",
              "      <th>139255</th>\n",
              "      <td>0</td>\n",
              "      <td>0</td>\n",
              "      <td>19</td>\n",
              "    </tr>\n",
              "    <tr>\n",
              "      <th>141495</th>\n",
              "      <td>0</td>\n",
              "      <td>0</td>\n",
              "      <td>27</td>\n",
              "    </tr>\n",
              "    <tr>\n",
              "      <th>144968</th>\n",
              "      <td>0</td>\n",
              "      <td>0</td>\n",
              "      <td>28</td>\n",
              "    </tr>\n",
              "    <tr>\n",
              "      <th>142661</th>\n",
              "      <td>0</td>\n",
              "      <td>0</td>\n",
              "      <td>29</td>\n",
              "    </tr>\n",
              "    <tr>\n",
              "      <th>138947</th>\n",
              "      <td>0</td>\n",
              "      <td>0</td>\n",
              "      <td>32</td>\n",
              "    </tr>\n",
              "  </tbody>\n",
              "</table>\n",
              "</div>"
            ],
            "text/plain": [
              "        date_block_num  shop_id  item_id\n",
              "139255               0        0       19\n",
              "141495               0        0       27\n",
              "144968               0        0       28\n",
              "142661               0        0       29\n",
              "138947               0        0       32"
            ]
          },
          "metadata": {
            "tags": []
          },
          "execution_count": 5
        }
      ]
    },
    {
      "cell_type": "code",
      "metadata": {
        "id": "mCoe7RDJ0vbm",
        "colab_type": "code",
        "colab": {}
      },
      "source": [
        "ts = time.time()\n",
        "group = sales_train.groupby(['date_block_num','shop_id','item_id']).agg({'item_cnt_day': ['sum']})\n",
        "group.columns = ['item_cnt_month']\n",
        "group.reset_index(inplace=True)\n",
        "\n",
        "matrix = pd.merge(matrix, group, on=cols, how='left')\n",
        "matrix['item_cnt_month'] = (matrix['item_cnt_month']\n",
        "                                .fillna(0)\n",
        "                                .clip(0,20) # NB clip target here\n",
        "                                .astype(np.float16))\n"
      ],
      "execution_count": 0,
      "outputs": []
    },
    {
      "cell_type": "code",
      "metadata": {
        "id": "zXRhZb7Y1Ym6",
        "colab_type": "code",
        "colab": {
          "base_uri": "https://localhost:8080/",
          "height": 204
        },
        "outputId": "d46a5b6d-8b4f-427f-9d44-6e6e16fd0837"
      },
      "source": [
        "matrix.tail()"
      ],
      "execution_count": 7,
      "outputs": [
        {
          "output_type": "execute_result",
          "data": {
            "text/html": [
              "<div>\n",
              "<style scoped>\n",
              "    .dataframe tbody tr th:only-of-type {\n",
              "        vertical-align: middle;\n",
              "    }\n",
              "\n",
              "    .dataframe tbody tr th {\n",
              "        vertical-align: top;\n",
              "    }\n",
              "\n",
              "    .dataframe thead th {\n",
              "        text-align: right;\n",
              "    }\n",
              "</style>\n",
              "<table border=\"1\" class=\"dataframe\">\n",
              "  <thead>\n",
              "    <tr style=\"text-align: right;\">\n",
              "      <th></th>\n",
              "      <th>date_block_num</th>\n",
              "      <th>shop_id</th>\n",
              "      <th>item_id</th>\n",
              "      <th>item_cnt_month</th>\n",
              "    </tr>\n",
              "  </thead>\n",
              "  <tbody>\n",
              "    <tr>\n",
              "      <th>10913845</th>\n",
              "      <td>33</td>\n",
              "      <td>59</td>\n",
              "      <td>22162</td>\n",
              "      <td>0.0</td>\n",
              "    </tr>\n",
              "    <tr>\n",
              "      <th>10913846</th>\n",
              "      <td>33</td>\n",
              "      <td>59</td>\n",
              "      <td>22163</td>\n",
              "      <td>0.0</td>\n",
              "    </tr>\n",
              "    <tr>\n",
              "      <th>10913847</th>\n",
              "      <td>33</td>\n",
              "      <td>59</td>\n",
              "      <td>22164</td>\n",
              "      <td>0.0</td>\n",
              "    </tr>\n",
              "    <tr>\n",
              "      <th>10913848</th>\n",
              "      <td>33</td>\n",
              "      <td>59</td>\n",
              "      <td>22166</td>\n",
              "      <td>0.0</td>\n",
              "    </tr>\n",
              "    <tr>\n",
              "      <th>10913849</th>\n",
              "      <td>33</td>\n",
              "      <td>59</td>\n",
              "      <td>22167</td>\n",
              "      <td>0.0</td>\n",
              "    </tr>\n",
              "  </tbody>\n",
              "</table>\n",
              "</div>"
            ],
            "text/plain": [
              "          date_block_num  shop_id  item_id  item_cnt_month\n",
              "10913845              33       59    22162             0.0\n",
              "10913846              33       59    22163             0.0\n",
              "10913847              33       59    22164             0.0\n",
              "10913848              33       59    22166             0.0\n",
              "10913849              33       59    22167             0.0"
            ]
          },
          "metadata": {
            "tags": []
          },
          "execution_count": 7
        }
      ]
    },
    {
      "cell_type": "code",
      "metadata": {
        "id": "etV9Z3va7KC1",
        "colab_type": "code",
        "colab": {
          "base_uri": "https://localhost:8080/",
          "height": 204
        },
        "outputId": "c064123e-bbd4-45cb-9ef3-7e8c5cfed570"
      },
      "source": [
        "test['date_block_num'] = 34\n",
        "test['date_block_num'] = test['date_block_num'].astype(np.int8)\n",
        "test['shop_id'] = test['shop_id'].astype(np.int8)\n",
        "test['item_id'] = test['item_id'].astype(np.int16)\n",
        "matrix = pd.concat([matrix, test], ignore_index=True, sort=False, keys=cols)\n",
        "matrix.fillna(0, inplace=True) # 34 month\n",
        "matrix.head()"
      ],
      "execution_count": 8,
      "outputs": [
        {
          "output_type": "execute_result",
          "data": {
            "text/html": [
              "<div>\n",
              "<style scoped>\n",
              "    .dataframe tbody tr th:only-of-type {\n",
              "        vertical-align: middle;\n",
              "    }\n",
              "\n",
              "    .dataframe tbody tr th {\n",
              "        vertical-align: top;\n",
              "    }\n",
              "\n",
              "    .dataframe thead th {\n",
              "        text-align: right;\n",
              "    }\n",
              "</style>\n",
              "<table border=\"1\" class=\"dataframe\">\n",
              "  <thead>\n",
              "    <tr style=\"text-align: right;\">\n",
              "      <th></th>\n",
              "      <th>date_block_num</th>\n",
              "      <th>shop_id</th>\n",
              "      <th>item_id</th>\n",
              "      <th>item_cnt_month</th>\n",
              "      <th>ID</th>\n",
              "    </tr>\n",
              "  </thead>\n",
              "  <tbody>\n",
              "    <tr>\n",
              "      <th>0</th>\n",
              "      <td>0</td>\n",
              "      <td>0</td>\n",
              "      <td>19</td>\n",
              "      <td>0.0</td>\n",
              "      <td>0.0</td>\n",
              "    </tr>\n",
              "    <tr>\n",
              "      <th>1</th>\n",
              "      <td>0</td>\n",
              "      <td>0</td>\n",
              "      <td>27</td>\n",
              "      <td>0.0</td>\n",
              "      <td>0.0</td>\n",
              "    </tr>\n",
              "    <tr>\n",
              "      <th>2</th>\n",
              "      <td>0</td>\n",
              "      <td>0</td>\n",
              "      <td>28</td>\n",
              "      <td>0.0</td>\n",
              "      <td>0.0</td>\n",
              "    </tr>\n",
              "    <tr>\n",
              "      <th>3</th>\n",
              "      <td>0</td>\n",
              "      <td>0</td>\n",
              "      <td>29</td>\n",
              "      <td>0.0</td>\n",
              "      <td>0.0</td>\n",
              "    </tr>\n",
              "    <tr>\n",
              "      <th>4</th>\n",
              "      <td>0</td>\n",
              "      <td>0</td>\n",
              "      <td>32</td>\n",
              "      <td>6.0</td>\n",
              "      <td>0.0</td>\n",
              "    </tr>\n",
              "  </tbody>\n",
              "</table>\n",
              "</div>"
            ],
            "text/plain": [
              "   date_block_num  shop_id  item_id  item_cnt_month   ID\n",
              "0               0        0       19             0.0  0.0\n",
              "1               0        0       27             0.0  0.0\n",
              "2               0        0       28             0.0  0.0\n",
              "3               0        0       29             0.0  0.0\n",
              "4               0        0       32             6.0  0.0"
            ]
          },
          "metadata": {
            "tags": []
          },
          "execution_count": 8
        }
      ]
    },
    {
      "cell_type": "markdown",
      "metadata": {
        "id": "VgzkOq08BH3l",
        "colab_type": "text"
      },
      "source": [
        "### **Featue Generation/Engineering**\n",
        "\n",
        "\n",
        "\n",
        "*   Trend Features - average of item_price/item_cnt from the last x month(s) [x = 1 for now] \n",
        "\n",
        "\n",
        "\n"
      ]
    },
    {
      "cell_type": "code",
      "metadata": {
        "id": "uC9yX2_d_9my",
        "colab_type": "code",
        "colab": {}
      },
      "source": [
        "def lag_feature(df, lags, col):\n",
        "    tmp = df[['date_block_num','shop_id','item_id',col]]\n",
        "    for i in lags:\n",
        "        shifted = tmp.copy()\n",
        "        shifted.columns = ['date_block_num','shop_id','item_id', col+'_lag_'+str(i)]\n",
        "        shifted['date_block_num'] += i\n",
        "        df = pd.merge(df, shifted, on=['date_block_num','shop_id','item_id'], how='left')\n",
        "    return df"
      ],
      "execution_count": 0,
      "outputs": []
    },
    {
      "cell_type": "code",
      "metadata": {
        "id": "0M4DkX8SawXs",
        "colab_type": "code",
        "colab": {
          "base_uri": "https://localhost:8080/",
          "height": 34
        },
        "outputId": "066b92c5-06b4-4c12-b7fd-73265309dfce"
      },
      "source": [
        "ts = time.time()\n",
        "group = sales_train.groupby(['item_id']).agg({'item_price': ['mean']})\n",
        "group.columns = ['item_avg_item_price']\n",
        "group.reset_index(inplace=True)\n",
        "\n",
        "matrix = pd.merge(matrix, group, on=['item_id'], how='left')\n",
        "\n",
        "group = sales_train.groupby(['date_block_num','item_id']).agg({'item_price': ['mean']})\n",
        "group.columns = ['date_item_avg_item_price']\n",
        "group.reset_index(inplace=True)\n",
        "\n",
        "matrix = pd.merge(matrix, group, on=['date_block_num','item_id'], how='left')\n",
        "\n",
        "lags = [1]\n",
        "matrix = lag_feature(matrix, lags, 'date_item_avg_item_price')\n",
        "\n",
        "fetures_to_drop = ['item_avg_item_price', 'date_item_avg_item_price']\n",
        "matrix = matrix.drop(fetures_to_drop, axis = 1)\n",
        "matrix = matrix.fillna(0)\n",
        "\n",
        "'''\n",
        "#can use for later\n",
        "\n",
        "for i in lags:\n",
        "    matrix['delta_price_lag_'+str(i)] = \\\n",
        "        (matrix['date_item_avg_item_price_lag_'+str(i)] - matrix['item_avg_item_price']) / matrix['item_avg_item_price']\n",
        "\n",
        "def select_trend(row):\n",
        "    for i in lags:\n",
        "        if row['delta_price_lag_'+str(i)]:\n",
        "            return row['delta_price_lag_'+str(i)]\n",
        "    return 0\n",
        "    \n",
        "matrix['delta_price_lag'] = matrix.apply(select_trend, axis=1)\n",
        "matrix['delta_price_lag'] = matrix['delta_price_lag'].astype(np.float16)\n",
        "matrix['delta_price_lag'].fillna(0, inplace=True)\n",
        "\n",
        "# https://stackoverflow.com/questions/31828240/first-non-null-value-per-row-from-a-list-of-pandas-columns/31828559\n",
        "# matrix['price_trend'] = matrix[['delta_price_lag_1','delta_price_lag_2','delta_price_lag_3']].bfill(axis=1).iloc[:, 0]\n",
        "# Invalid dtype for backfill_2d [float16]\n",
        "\n",
        "fetures_to_drop = ['item_avg_item_price', 'date_item_avg_item_price']\n",
        "for i in lags:\n",
        "    fetures_to_drop += ['date_item_avg_item_price_lag_'+str(i)]\n",
        "    fetures_to_drop += ['delta_price_lag_'+str(i)]\n",
        "\n",
        "matrix.drop(fetures_to_drop, axis=1, inplace=True)\n",
        "'''\n",
        "time.time() - ts"
      ],
      "execution_count": 10,
      "outputs": [
        {
          "output_type": "execute_result",
          "data": {
            "text/plain": [
              "9.990682125091553"
            ]
          },
          "metadata": {
            "tags": []
          },
          "execution_count": 10
        }
      ]
    },
    {
      "cell_type": "code",
      "metadata": {
        "id": "Fp1Q5V-I9EJK",
        "colab_type": "code",
        "colab": {
          "base_uri": "https://localhost:8080/",
          "height": 204
        },
        "outputId": "a860d42f-6ace-4b97-e116-73f8161579a1"
      },
      "source": [
        "matrix.tail()"
      ],
      "execution_count": 11,
      "outputs": [
        {
          "output_type": "execute_result",
          "data": {
            "text/html": [
              "<div>\n",
              "<style scoped>\n",
              "    .dataframe tbody tr th:only-of-type {\n",
              "        vertical-align: middle;\n",
              "    }\n",
              "\n",
              "    .dataframe tbody tr th {\n",
              "        vertical-align: top;\n",
              "    }\n",
              "\n",
              "    .dataframe thead th {\n",
              "        text-align: right;\n",
              "    }\n",
              "</style>\n",
              "<table border=\"1\" class=\"dataframe\">\n",
              "  <thead>\n",
              "    <tr style=\"text-align: right;\">\n",
              "      <th></th>\n",
              "      <th>date_block_num</th>\n",
              "      <th>shop_id</th>\n",
              "      <th>item_id</th>\n",
              "      <th>item_cnt_month</th>\n",
              "      <th>ID</th>\n",
              "      <th>date_item_avg_item_price_lag_1</th>\n",
              "    </tr>\n",
              "  </thead>\n",
              "  <tbody>\n",
              "    <tr>\n",
              "      <th>11128045</th>\n",
              "      <td>34</td>\n",
              "      <td>45</td>\n",
              "      <td>18454</td>\n",
              "      <td>0.0</td>\n",
              "      <td>214195.0</td>\n",
              "      <td>99.0</td>\n",
              "    </tr>\n",
              "    <tr>\n",
              "      <th>11128046</th>\n",
              "      <td>34</td>\n",
              "      <td>45</td>\n",
              "      <td>16188</td>\n",
              "      <td>0.0</td>\n",
              "      <td>214196.0</td>\n",
              "      <td>1359.0</td>\n",
              "    </tr>\n",
              "    <tr>\n",
              "      <th>11128047</th>\n",
              "      <td>34</td>\n",
              "      <td>45</td>\n",
              "      <td>15757</td>\n",
              "      <td>0.0</td>\n",
              "      <td>214197.0</td>\n",
              "      <td>229.0</td>\n",
              "    </tr>\n",
              "    <tr>\n",
              "      <th>11128048</th>\n",
              "      <td>34</td>\n",
              "      <td>45</td>\n",
              "      <td>19648</td>\n",
              "      <td>0.0</td>\n",
              "      <td>214198.0</td>\n",
              "      <td>89.1</td>\n",
              "    </tr>\n",
              "    <tr>\n",
              "      <th>11128049</th>\n",
              "      <td>34</td>\n",
              "      <td>45</td>\n",
              "      <td>969</td>\n",
              "      <td>0.0</td>\n",
              "      <td>214199.0</td>\n",
              "      <td>198.0</td>\n",
              "    </tr>\n",
              "  </tbody>\n",
              "</table>\n",
              "</div>"
            ],
            "text/plain": [
              "          date_block_num  shop_id  ...        ID  date_item_avg_item_price_lag_1\n",
              "11128045              34       45  ...  214195.0                            99.0\n",
              "11128046              34       45  ...  214196.0                          1359.0\n",
              "11128047              34       45  ...  214197.0                           229.0\n",
              "11128048              34       45  ...  214198.0                            89.1\n",
              "11128049              34       45  ...  214199.0                           198.0\n",
              "\n",
              "[5 rows x 6 columns]"
            ]
          },
          "metadata": {
            "tags": []
          },
          "execution_count": 11
        }
      ]
    },
    {
      "cell_type": "markdown",
      "metadata": {
        "id": "jtZ0iBdUCD-Z",
        "colab_type": "text"
      },
      "source": [
        "# Modelling\n",
        "\n",
        "\n",
        "\n",
        "*   Train/Val/Test split\n",
        "*   Model specific feature set\n",
        "*   Model Fit & Validate\n",
        "*   Test/Submission Results\n",
        "\n",
        "\n",
        "\n"
      ]
    },
    {
      "cell_type": "markdown",
      "metadata": {
        "id": "9TJk9bzeCjqF",
        "colab_type": "text"
      },
      "source": [
        "Train/Test split"
      ]
    },
    {
      "cell_type": "code",
      "metadata": {
        "id": "l_RFPPPP9yr6",
        "colab_type": "code",
        "colab": {}
      },
      "source": [
        "data = matrix\n",
        "#skip first month - used to caclulate date_item_avg_item_price_lag_!\n",
        "data = data[data['date_block_num'] > 0 ]\n",
        "train_final_index = 28 #makes validation set to be 20% of the non-test data (threshold is surely debatable)\n",
        "X_train = data[data.date_block_num <= train_final_index].drop(['item_cnt_month', 'ID'], axis=1)\n",
        "y_train = data[data.date_block_num <= train_final_index]['item_cnt_month']\n",
        "X_val = data[(data.date_block_num > train_final_index) & (data.date_block_num <= 33)].drop(['item_cnt_month', 'ID'], axis=1)\n",
        "y_val = data[(data.date_block_num > train_final_index) & (data.date_block_num <= 33)]['item_cnt_month']\n",
        "X_test = data[data.date_block_num == 34].drop(['item_cnt_month', 'ID'], axis=1)"
      ],
      "execution_count": 0,
      "outputs": []
    },
    {
      "cell_type": "code",
      "metadata": {
        "id": "o0g1t4mbVAv6",
        "colab_type": "code",
        "colab": {
          "base_uri": "https://localhost:8080/",
          "height": 204
        },
        "outputId": "6fe93d1d-9f70-45ab-bf51-2e8344851c5b"
      },
      "source": [
        "X_train.head()"
      ],
      "execution_count": 65,
      "outputs": [
        {
          "output_type": "execute_result",
          "data": {
            "text/html": [
              "<div>\n",
              "<style scoped>\n",
              "    .dataframe tbody tr th:only-of-type {\n",
              "        vertical-align: middle;\n",
              "    }\n",
              "\n",
              "    .dataframe tbody tr th {\n",
              "        vertical-align: top;\n",
              "    }\n",
              "\n",
              "    .dataframe thead th {\n",
              "        text-align: right;\n",
              "    }\n",
              "</style>\n",
              "<table border=\"1\" class=\"dataframe\">\n",
              "  <thead>\n",
              "    <tr style=\"text-align: right;\">\n",
              "      <th></th>\n",
              "      <th>date_block_num</th>\n",
              "      <th>shop_id</th>\n",
              "      <th>item_id</th>\n",
              "      <th>date_item_avg_item_price_lag_1</th>\n",
              "    </tr>\n",
              "  </thead>\n",
              "  <tbody>\n",
              "    <tr>\n",
              "      <th>365175</th>\n",
              "      <td>1</td>\n",
              "      <td>0</td>\n",
              "      <td>12</td>\n",
              "      <td>0.0</td>\n",
              "    </tr>\n",
              "    <tr>\n",
              "      <th>365176</th>\n",
              "      <td>1</td>\n",
              "      <td>0</td>\n",
              "      <td>27</td>\n",
              "      <td>2325.0</td>\n",
              "    </tr>\n",
              "    <tr>\n",
              "      <th>365177</th>\n",
              "      <td>1</td>\n",
              "      <td>0</td>\n",
              "      <td>28</td>\n",
              "      <td>549.0</td>\n",
              "    </tr>\n",
              "    <tr>\n",
              "      <th>365178</th>\n",
              "      <td>1</td>\n",
              "      <td>0</td>\n",
              "      <td>30</td>\n",
              "      <td>0.0</td>\n",
              "    </tr>\n",
              "    <tr>\n",
              "      <th>365179</th>\n",
              "      <td>1</td>\n",
              "      <td>0</td>\n",
              "      <td>31</td>\n",
              "      <td>0.0</td>\n",
              "    </tr>\n",
              "  </tbody>\n",
              "</table>\n",
              "</div>"
            ],
            "text/plain": [
              "        date_block_num  shop_id  item_id  date_item_avg_item_price_lag_1\n",
              "365175               1        0       12                             0.0\n",
              "365176               1        0       27                          2325.0\n",
              "365177               1        0       28                           549.0\n",
              "365178               1        0       30                             0.0\n",
              "365179               1        0       31                             0.0"
            ]
          },
          "metadata": {
            "tags": []
          },
          "execution_count": 65
        }
      ]
    },
    {
      "cell_type": "code",
      "metadata": {
        "id": "t1-fHFoFG3wa",
        "colab_type": "code",
        "colab": {
          "base_uri": "https://localhost:8080/",
          "height": 119
        },
        "outputId": "16d054c1-4e54-400c-e3e9-1dc265494663"
      },
      "source": [
        "y_train.head()"
      ],
      "execution_count": 66,
      "outputs": [
        {
          "output_type": "execute_result",
          "data": {
            "text/plain": [
              "365175     0.0\n",
              "365176     0.0\n",
              "365177     0.0\n",
              "365178    20.0\n",
              "365179    11.0\n",
              "Name: item_cnt_month, dtype: float16"
            ]
          },
          "metadata": {
            "tags": []
          },
          "execution_count": 66
        }
      ]
    },
    {
      "cell_type": "markdown",
      "metadata": {
        "id": "-yaXpG71QxcW",
        "colab_type": "text"
      },
      "source": [
        "Model Specific feature set"
      ]
    },
    {
      "cell_type": "code",
      "metadata": {
        "id": "8a0v1BXjRcGJ",
        "colab_type": "code",
        "colab": {}
      },
      "source": [
        "#Remove categorical features unless encoded (e.g one-hot encoding) for basically any method other than a tree method (Linear Regresion, Neural Networks etc)\n",
        "LinRegFeaturesToDrop= ['date_block_num', 'shop_id', 'item_id'] \n",
        "X_train = X_train.drop(LinRegFeaturesToDrop, axis = 1)\n",
        "X_val = X_val.drop(LinRegFeaturesToDrop, axis = 1)\n",
        "X_test = X_test.drop(LinRegFeaturesToDrop, axis = 1)\n"
      ],
      "execution_count": 0,
      "outputs": []
    },
    {
      "cell_type": "markdown",
      "metadata": {
        "id": "izqoiZEgCoy-",
        "colab_type": "text"
      },
      "source": [
        "Model Fit & Validate"
      ]
    },
    {
      "cell_type": "code",
      "metadata": {
        "id": "PKaLcysR6TJO",
        "colab_type": "code",
        "colab": {
          "base_uri": "https://localhost:8080/",
          "height": 51
        },
        "outputId": "31ad7e54-93e8-4411-a2f6-67753385e041"
      },
      "source": [
        "linReg = LinearRegression()\n",
        "linReg.fit(X_train,y_train)\n",
        "train_score = linReg.score(X_train, y_train)\n",
        "val_score = linReg.score(X_val, y_val)\n",
        "print('R^2 train_score is ' + str(train_score))\n",
        "print('R^2 val_score is ' + str(val_score))"
      ],
      "execution_count": 68,
      "outputs": [
        {
          "output_type": "stream",
          "text": [
            "R^2 train_score is 0.0028290909643227118\n",
            "R^2 val_score is -0.001782945937784275\n"
          ],
          "name": "stdout"
        }
      ]
    },
    {
      "cell_type": "code",
      "metadata": {
        "id": "Q-TZfbMPP2qY",
        "colab_type": "code",
        "colab": {}
      },
      "source": [
        "#ToDo:\n",
        "#1) Optimize based on something more relevant to RMSE than just MSE (course noted to log target and the inverse log? - see metrics optimization videos)\n",
        "#2) Score based on RMSE"
      ],
      "execution_count": 0,
      "outputs": []
    },
    {
      "cell_type": "markdown",
      "metadata": {
        "id": "sFYjXrmHCxOj",
        "colab_type": "text"
      },
      "source": [
        "Test/Submission Results"
      ]
    },
    {
      "cell_type": "code",
      "metadata": {
        "id": "OxXCPKxw77oB",
        "colab_type": "code",
        "colab": {}
      },
      "source": [
        "model = linReg\n",
        "Y_pred = model.predict(X_val).clip(0, 20)\n",
        "Y_test = model.predict(X_test).clip(0, 20)\n",
        "\n",
        "submission = pd.DataFrame({\n",
        "    \"ID\": test.index, \n",
        "    \"item_cnt_month\": Y_test\n",
        "})\n",
        "submission.to_csv('xgb_submission.csv', index=False)\n",
        "\n",
        "# save predictions for an ensemble\n",
        "pickle.dump(Y_pred, open('linReg_train.pickle', 'wb'))\n",
        "pickle.dump(Y_test, open('linReg_test.pickle', 'wb'))"
      ],
      "execution_count": 0,
      "outputs": []
    },
    {
      "cell_type": "code",
      "metadata": {
        "id": "E2Jc1FVCHXOA",
        "colab_type": "code",
        "colab": {
          "base_uri": "https://localhost:8080/",
          "height": 204
        },
        "outputId": "5962c081-38a9-4b65-bf56-666531989dd6"
      },
      "source": [
        "submission.head()"
      ],
      "execution_count": 27,
      "outputs": [
        {
          "output_type": "execute_result",
          "data": {
            "text/html": [
              "<div>\n",
              "<style scoped>\n",
              "    .dataframe tbody tr th:only-of-type {\n",
              "        vertical-align: middle;\n",
              "    }\n",
              "\n",
              "    .dataframe tbody tr th {\n",
              "        vertical-align: top;\n",
              "    }\n",
              "\n",
              "    .dataframe thead th {\n",
              "        text-align: right;\n",
              "    }\n",
              "</style>\n",
              "<table border=\"1\" class=\"dataframe\">\n",
              "  <thead>\n",
              "    <tr style=\"text-align: right;\">\n",
              "      <th></th>\n",
              "      <th>ID</th>\n",
              "      <th>item_cnt_month</th>\n",
              "    </tr>\n",
              "  </thead>\n",
              "  <tbody>\n",
              "    <tr>\n",
              "      <th>0</th>\n",
              "      <td>0</td>\n",
              "      <td>0.347003</td>\n",
              "    </tr>\n",
              "    <tr>\n",
              "      <th>1</th>\n",
              "      <td>1</td>\n",
              "      <td>0.270596</td>\n",
              "    </tr>\n",
              "    <tr>\n",
              "      <th>2</th>\n",
              "      <td>2</td>\n",
              "      <td>0.331711</td>\n",
              "    </tr>\n",
              "    <tr>\n",
              "      <th>3</th>\n",
              "      <td>3</td>\n",
              "      <td>0.331274</td>\n",
              "    </tr>\n",
              "    <tr>\n",
              "      <th>4</th>\n",
              "      <td>4</td>\n",
              "      <td>0.270596</td>\n",
              "    </tr>\n",
              "  </tbody>\n",
              "</table>\n",
              "</div>"
            ],
            "text/plain": [
              "   ID  item_cnt_month\n",
              "0   0        0.347003\n",
              "1   1        0.270596\n",
              "2   2        0.331711\n",
              "3   3        0.331274\n",
              "4   4        0.270596"
            ]
          },
          "metadata": {
            "tags": []
          },
          "execution_count": 27
        }
      ]
    },
    {
      "cell_type": "markdown",
      "metadata": {
        "id": "ql4JBZvDV5ou",
        "colab_type": "text"
      },
      "source": [
        "EDA"
      ]
    },
    {
      "cell_type": "code",
      "metadata": {
        "id": "CM4FzxwQV60I",
        "colab_type": "code",
        "colab": {
          "base_uri": "https://localhost:8080/",
          "height": 390
        },
        "outputId": "804ca347-6f63-42b5-e0c3-24d9864a7df4"
      },
      "source": [
        "df1 = data.describe(include = 'all')\n",
        "df1.loc['dtype'] = data.dtypes\n",
        "df1.loc['size'] = len(data)\n",
        "df1.loc['% Null_count'] = data.isnull().mean()\n",
        "df1"
      ],
      "execution_count": 71,
      "outputs": [
        {
          "output_type": "execute_result",
          "data": {
            "text/html": [
              "<div>\n",
              "<style scoped>\n",
              "    .dataframe tbody tr th:only-of-type {\n",
              "        vertical-align: middle;\n",
              "    }\n",
              "\n",
              "    .dataframe tbody tr th {\n",
              "        vertical-align: top;\n",
              "    }\n",
              "\n",
              "    .dataframe thead th {\n",
              "        text-align: right;\n",
              "    }\n",
              "</style>\n",
              "<table border=\"1\" class=\"dataframe\">\n",
              "  <thead>\n",
              "    <tr style=\"text-align: right;\">\n",
              "      <th></th>\n",
              "      <th>date_block_num</th>\n",
              "      <th>shop_id</th>\n",
              "      <th>item_id</th>\n",
              "      <th>item_cnt_month</th>\n",
              "      <th>ID</th>\n",
              "      <th>date_item_avg_item_price_lag_1</th>\n",
              "    </tr>\n",
              "  </thead>\n",
              "  <tbody>\n",
              "    <tr>\n",
              "      <th>count</th>\n",
              "      <td>1.07629e+07</td>\n",
              "      <td>1.07629e+07</td>\n",
              "      <td>1.07629e+07</td>\n",
              "      <td>1.07629e+07</td>\n",
              "      <td>1.07629e+07</td>\n",
              "      <td>1.07629e+07</td>\n",
              "    </tr>\n",
              "    <tr>\n",
              "      <th>mean</th>\n",
              "      <td>15.86</td>\n",
              "      <td>31.3052</td>\n",
              "      <td>11301.3</td>\n",
              "      <td>NaN</td>\n",
              "      <td>2131.47</td>\n",
              "      <td>533.953</td>\n",
              "    </tr>\n",
              "    <tr>\n",
              "      <th>std</th>\n",
              "      <td>9.49964</td>\n",
              "      <td>17.3539</td>\n",
              "      <td>6216.82</td>\n",
              "      <td>0</td>\n",
              "      <td>17315.6</td>\n",
              "      <td>1208.86</td>\n",
              "    </tr>\n",
              "    <tr>\n",
              "      <th>min</th>\n",
              "      <td>1</td>\n",
              "      <td>0</td>\n",
              "      <td>0</td>\n",
              "      <td>0</td>\n",
              "      <td>0</td>\n",
              "      <td>0</td>\n",
              "    </tr>\n",
              "    <tr>\n",
              "      <th>25%</th>\n",
              "      <td>8</td>\n",
              "      <td>16</td>\n",
              "      <td>5931</td>\n",
              "      <td>0</td>\n",
              "      <td>0</td>\n",
              "      <td>99</td>\n",
              "    </tr>\n",
              "    <tr>\n",
              "      <th>50%</th>\n",
              "      <td>15</td>\n",
              "      <td>31</td>\n",
              "      <td>11387</td>\n",
              "      <td>0</td>\n",
              "      <td>0</td>\n",
              "      <td>249</td>\n",
              "    </tr>\n",
              "    <tr>\n",
              "      <th>75%</th>\n",
              "      <td>24</td>\n",
              "      <td>47</td>\n",
              "      <td>16590</td>\n",
              "      <td>0</td>\n",
              "      <td>0</td>\n",
              "      <td>499</td>\n",
              "    </tr>\n",
              "    <tr>\n",
              "      <th>max</th>\n",
              "      <td>34</td>\n",
              "      <td>59</td>\n",
              "      <td>22169</td>\n",
              "      <td>20</td>\n",
              "      <td>214199</td>\n",
              "      <td>39990.5</td>\n",
              "    </tr>\n",
              "    <tr>\n",
              "      <th>dtype</th>\n",
              "      <td>int8</td>\n",
              "      <td>int8</td>\n",
              "      <td>int16</td>\n",
              "      <td>float16</td>\n",
              "      <td>float64</td>\n",
              "      <td>float64</td>\n",
              "    </tr>\n",
              "    <tr>\n",
              "      <th>size</th>\n",
              "      <td>10762875</td>\n",
              "      <td>10762875</td>\n",
              "      <td>10762875</td>\n",
              "      <td>10762875</td>\n",
              "      <td>10762875</td>\n",
              "      <td>10762875</td>\n",
              "    </tr>\n",
              "    <tr>\n",
              "      <th>% Null_count</th>\n",
              "      <td>0</td>\n",
              "      <td>0</td>\n",
              "      <td>0</td>\n",
              "      <td>0</td>\n",
              "      <td>0</td>\n",
              "      <td>0</td>\n",
              "    </tr>\n",
              "  </tbody>\n",
              "</table>\n",
              "</div>"
            ],
            "text/plain": [
              "             date_block_num  ... date_item_avg_item_price_lag_1\n",
              "count           1.07629e+07  ...                    1.07629e+07\n",
              "mean                  15.86  ...                        533.953\n",
              "std                 9.49964  ...                        1208.86\n",
              "min                       1  ...                              0\n",
              "25%                       8  ...                             99\n",
              "50%                      15  ...                            249\n",
              "75%                      24  ...                            499\n",
              "max                      34  ...                        39990.5\n",
              "dtype                  int8  ...                        float64\n",
              "size               10762875  ...                       10762875\n",
              "% Null_count              0  ...                              0\n",
              "\n",
              "[11 rows x 6 columns]"
            ]
          },
          "metadata": {
            "tags": []
          },
          "execution_count": 71
        }
      ]
    },
    {
      "cell_type": "code",
      "metadata": {
        "id": "1AO5bhuL0I8G",
        "colab_type": "code",
        "colab": {}
      },
      "source": [
        ""
      ],
      "execution_count": 0,
      "outputs": []
    },
    {
      "cell_type": "markdown",
      "metadata": {
        "id": "qjgWGEs50Lch",
        "colab_type": "text"
      },
      "source": [
        "**Data Cleaning**"
      ]
    },
    {
      "cell_type": "code",
      "metadata": {
        "id": "c9U1Z8bk0Sh0",
        "colab_type": "code",
        "colab": {}
      },
      "source": [
        "#impute any potential missing values or deal with outliers"
      ],
      "execution_count": 0,
      "outputs": []
    },
    {
      "cell_type": "markdown",
      "metadata": {
        "id": "5dF3-5w-Vi7O",
        "colab_type": "text"
      },
      "source": [
        "Feature Engineering"
      ]
    },
    {
      "cell_type": "code",
      "metadata": {
        "id": "OrRnHaqpVmoQ",
        "colab_type": "code",
        "colab": {}
      },
      "source": [
        "# To construct month, year feature from data\n",
        "# count of days in a month\n",
        "# time components of item_price and item_cnt (value at t-1, t-2, t-3, t-6, t-12 maybe)\n",
        "# rate of change of item_cnt (between t-1 and t-2 e.g.), \n",
        "# statistics on item_price and item_cnt - mean, std, range, mode, skew?\n"
      ],
      "execution_count": 0,
      "outputs": []
    },
    {
      "cell_type": "code",
      "metadata": {
        "id": "SRUC5iYQ12em",
        "colab_type": "code",
        "colab": {}
      },
      "source": [
        "#Create a distinct day, month, year column\n",
        "'''\n",
        "df['date'] = pd.to_datetime(df['date'], format = \"%d.%m.%Y\")\n",
        "df['year'], df['month'], features['day'] = df['date'].dt.year, df['date'].dt.month, df['date'].dt.day\n",
        "df.head()\n",
        "'''\n",
        "#also get day count (days in a month)"
      ],
      "execution_count": 0,
      "outputs": []
    }
  ]
}