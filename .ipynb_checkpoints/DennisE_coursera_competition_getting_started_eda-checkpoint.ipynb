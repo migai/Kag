{
 "cells": [
  {
   "cell_type": "markdown",
   "metadata": {
    "_cell_guid": "79c7e3d0-c299-4dcb-8224-4455121ee9b0",
    "_uuid": "d629ff2d2480ee46fbb7e2d37f6b5fab8052498a",
    "collapsed": true
   },
   "source": [
    "Let's get started!\n",
    "\n",
    "I) I got used to work through such kernels and data science flows by using the \"Feynman\" methodology (https://mattyford.com/blog/2014/1/23/the-feynman-technique-model). \n",
    "![](https://cdn.britannica.com/84/19184-004-AE04C440.jpg)\n",
    "He famously said that you only really understand a concept if you are able to explain it to a 5-year-old. Therefore I go though my work and comment / annotate every step and learning (and especially mistake) I do along the way. That forces me to really understand the topic and to look at my work later and again understand what worked how. Additionally I imagine it could be interesting for fellow learners.\n",
    "\n",
    "II)  From earlier work on Kaggle I saved the following workflow and will use it for structuring the project:\n",
    "\n",
    " 1. Prepare Problem\n",
    "a) Load libraries\n",
    "b) Load dataset\n",
    "\n",
    "2. Summarize Data\n",
    "a) Descriptive statistics\n",
    "b) Data visualizations\n",
    "\n",
    "3. Prepare Data\n",
    "a) Data Cleaning\n",
    "b) Feature Selection\n",
    "c) Data Transforms (Normalize,...)\n",
    "\n",
    "These steps go into a second kernel [here](https://www.kaggle.com/dennise/coursera-competition-modelling/edit)\n",
    "\n",
    "4. Evaluate Algorithms\n",
    "a) Split-out validation dataset\n",
    "b) Test options and evaluation metric\n",
    "c) Spot Check Algorithms\n",
    "d) Compare Algorithms\n",
    "\n",
    "5. Improve Accuracy\n",
    "a) Algorithm Tuning\n",
    "b) Ensembles\n",
    "\n",
    "6. Finalize Model\n",
    "a) Predictions on validation dataset\n",
    "b) Create standalone model on entire training dataset\n",
    "c) Save model for later use"
   ]
  },
  {
   "cell_type": "code",
   "execution_count": null,
   "metadata": {
    "_uuid": "b6063438e92f0496d13b2a32e75d6b3ce3cdb046"
   },
   "outputs": [],
   "source": [
    "\"\"\"\n",
    "1) Prepare Problem\n",
    "a) Load libraries\n",
    "\"\"\"\n",
    "import numpy as np # linear algebra\n",
    "import pandas as pd # data processing, CSV file I/O (e.g. pd.read_csv)\n",
    "\n",
    "# Input data files are available in the \"../input/\" directory.\n",
    "# For example, running this (by clicking run or pressing Shift+Enter) will list the files in the input directory\n",
    "import os\n",
    "print(os.listdir(\"../input\"))\n",
    "# Any results you write to the current directory are saved as output.\n",
    "\n",
    "import matplotlib.pyplot as plt\n",
    "%matplotlib inline\n",
    "import seaborn as sns\n",
    "\n",
    "# Lets see what other libraries I will be using\n",
    "# Keras\n",
    "# sklearn"
   ]
  },
  {
   "cell_type": "code",
   "execution_count": null,
   "metadata": {
    "_uuid": "89040aaf08b0baa3bd8ef8e46b523266a2594396"
   },
   "outputs": [],
   "source": [
    "\"\"\"\n",
    "1) Prepare Problem\n",
    "b) Load dataset\n",
    "\"\"\"\n",
    "items=pd.read_csv('../input/items.csv')\n",
    "item_categories=pd.read_csv('../input/item_categories.csv')\n",
    "shops=pd.read_csv('../input/shops.csv')\n",
    "\n",
    "# What about these *.gz files?\n",
    "# It is a compressed format: \"For on-the-fly decompression of on-disk data\"\n",
    "test=pd.read_csv('../input/test.csv.gz',compression='gzip')\n",
    "sample_submission=pd.read_csv('../input/sample_submission.csv.gz',compression='gzip')\n",
    "sales_train=pd.read_csv('../input/sales_train.csv.gz',compression='gzip')"
   ]
  },
  {
   "cell_type": "code",
   "execution_count": null,
   "metadata": {
    "_uuid": "a86b72605d00cb827d7c69b5e4567b25e968e7a7",
    "scrolled": true
   },
   "outputs": [],
   "source": [
    "items.info()"
   ]
  },
  {
   "cell_type": "code",
   "execution_count": null,
   "metadata": {
    "_uuid": "a46e2d987b8dfa64efee1f69608c6184e1214442"
   },
   "outputs": [],
   "source": [
    "items.head()"
   ]
  },
  {
   "cell_type": "code",
   "execution_count": null,
   "metadata": {
    "_uuid": "cf839c6424adabb4090d7f50cf8c79e3d77b273a"
   },
   "outputs": [],
   "source": [
    "items.describe()"
   ]
  },
  {
   "cell_type": "markdown",
   "metadata": {
    "_uuid": "e4b533d64f66d67a445450c8e8c6f14d1f4bc466"
   },
   "source": [
    "Observations:\n",
    "- So there are 22.170 different items  in the catalogue\n",
    "- Each one has a unique ID\n",
    "- There are 84 (0 is included as can be seen below) different categories and each product is categorized. No NaN's."
   ]
  },
  {
   "cell_type": "code",
   "execution_count": null,
   "metadata": {
    "_uuid": "92c5afea73770ada8ec74b2d28287e829a886da6"
   },
   "outputs": [],
   "source": [
    "item_categories.info()"
   ]
  },
  {
   "cell_type": "code",
   "execution_count": null,
   "metadata": {
    "_uuid": "aca7781f2ef973b5f667995bb555907aead8f651"
   },
   "outputs": [],
   "source": [
    "item_categories.head()"
   ]
  },
  {
   "cell_type": "code",
   "execution_count": null,
   "metadata": {
    "_uuid": "95cd9181e87d2fa9374bd7c12cc45e9da3838566"
   },
   "outputs": [],
   "source": [
    "item_categories.describe()\n",
    "# Gives descriptive statistics on quantitative features"
   ]
  },
  {
   "cell_type": "markdown",
   "metadata": {
    "_uuid": "b0c40d6a60a956254ee331a4d211837f32761795"
   },
   "source": [
    "Observations:\n",
    "- There are 84 different categories (=IDs) (starting at 0 with \"PC\")\n",
    "- Each category has a name"
   ]
  },
  {
   "cell_type": "code",
   "execution_count": null,
   "metadata": {
    "_uuid": "762f0e60bebbe7612076013557053876f4c96e7d"
   },
   "outputs": [],
   "source": [
    "shops.info()"
   ]
  },
  {
   "cell_type": "code",
   "execution_count": null,
   "metadata": {
    "_uuid": "4d8277508b50b745ecd51351463a82e08535c6c8"
   },
   "outputs": [],
   "source": [
    "shops.head()"
   ]
  },
  {
   "cell_type": "code",
   "execution_count": null,
   "metadata": {
    "_uuid": "2f421f7d450b61ef342e3bfee9f913a824562f3e"
   },
   "outputs": [],
   "source": [
    "shops.describe()"
   ]
  },
  {
   "cell_type": "markdown",
   "metadata": {
    "_uuid": "dd9c12d08312b3a02dda468cf8255b4700fe5ab7"
   },
   "source": [
    "Observations:\n",
    "- There are 60 shops (again starting at 0) = IDs\n",
    "-  Each shop has a name\n",
    "    - maybe the names refer to places and that could be meaningul for analysis? (Added to open questions/ideas)"
   ]
  },
  {
   "cell_type": "code",
   "execution_count": null,
   "metadata": {
    "_uuid": "decc09c3f3742b91b01e757ce15d7fc9486258dc"
   },
   "outputs": [],
   "source": [
    "test.info()"
   ]
  },
  {
   "cell_type": "code",
   "execution_count": null,
   "metadata": {
    "_uuid": "6410de8e7e00e3a7261219b38f148e92c7a33fc1"
   },
   "outputs": [],
   "source": [
    "test.head()"
   ]
  },
  {
   "cell_type": "code",
   "execution_count": null,
   "metadata": {
    "_uuid": "74276ac86b9241d51fe5175968535381e77cdd0d"
   },
   "outputs": [],
   "source": [
    "test.describe()"
   ]
  },
  {
   "cell_type": "markdown",
   "metadata": {
    "_uuid": "9ad231bdbd386db21a6f61fb315ae6865a263f36"
   },
   "source": [
    "From data desciption in competition:\n",
    "\"the test set. You need to forecast the sales for these shops and products for November 2015\"\n",
    "\n",
    "Observations:\n",
    "    - 214,200 items in test\n",
    "    - So I need to make predictions for 60 shops for certain items sold per month\n",
    "    - There are not all item_ids in each shop: 60 shops * 22,167 items would make 1,330,000 predictions"
   ]
  },
  {
   "cell_type": "code",
   "execution_count": null,
   "metadata": {
    "_uuid": "09293d5860d77bdd7f2227ac1b44d8387083fab8"
   },
   "outputs": [],
   "source": [
    "sample_submission.info()"
   ]
  },
  {
   "cell_type": "code",
   "execution_count": null,
   "metadata": {
    "_uuid": "6cfe6847b400a9ba05cecbf1330f240a187e1c37"
   },
   "outputs": [],
   "source": [
    "sample_submission.head()"
   ]
  },
  {
   "cell_type": "code",
   "execution_count": null,
   "metadata": {
    "_uuid": "9b9a27e105239018b86475802026364b5d69361e"
   },
   "outputs": [],
   "source": [
    "sample_submission.describe()"
   ]
  },
  {
   "cell_type": "markdown",
   "metadata": {
    "_uuid": "2650af6dcdf8838788072b4c5ef1de681a705358"
   },
   "source": [
    "Observations:\n",
    "    - So this is what I have to deliver in the end. An item_cnt_month per ID from test-set. I.e. how many items (item_id) are sold in a specific shop (shop_id) in this month? (November 2015) (Added seasonalization to list of open to dos)"
   ]
  },
  {
   "cell_type": "code",
   "execution_count": null,
   "metadata": {
    "_uuid": "5fec7ae45dd4acf6ee79669c4be620ea07a367bb"
   },
   "outputs": [],
   "source": [
    "sales_train.info()"
   ]
  },
  {
   "cell_type": "code",
   "execution_count": null,
   "metadata": {
    "_uuid": "90fa41465d09024387d9b655ef1a19e14e1f0f2d"
   },
   "outputs": [],
   "source": [
    "sales_train.head()"
   ]
  },
  {
   "cell_type": "code",
   "execution_count": null,
   "metadata": {
    "_uuid": "2869a385eb1af4a47ea06e484b5c517371151065"
   },
   "outputs": [],
   "source": [
    "sales_train.describe()"
   ]
  },
  {
   "cell_type": "markdown",
   "metadata": {
    "_uuid": "69bf79dfd339f7013e925c8c493f6ad4f218f196"
   },
   "source": [
    "Observations:\n",
    "- nearly 3 million items in train-set\n",
    "- the transaction history of 60 shops over 33 months\n",
    "- per shop, per item, total sales/shop/item/day\n",
    "- revenue/item/shop/day = item_price*item_cnt_day (as learned in the coursera hosted pandas introduction session)\n",
    "- looks like there are no NaNs in the data"
   ]
  },
  {
   "cell_type": "markdown",
   "metadata": {
    "_uuid": "bec191b886c7661e8bffeb3084e7aed43ffddebd"
   },
   "source": [
    "Now we get to Phase 2:\n",
    "2. Summarize Data\n",
    "a) Descriptive statistics\n",
    "\n",
    "= EDA = Exploratory data analysis (= week 2 of coursera course)\n",
    "\n",
    "Primarily interest here of course the train_dataset"
   ]
  },
  {
   "cell_type": "code",
   "execution_count": null,
   "metadata": {
    "_uuid": "f5ef5aa4e899857c6081a463015a697c22b64ad6"
   },
   "outputs": [],
   "source": [
    "sales_train.info()"
   ]
  },
  {
   "cell_type": "code",
   "execution_count": null,
   "metadata": {
    "_uuid": "c45b55a4b599bd12d17c2e97f96a3521a32df623"
   },
   "outputs": [],
   "source": [
    "sales_train.describe()"
   ]
  },
  {
   "cell_type": "code",
   "execution_count": null,
   "metadata": {
    "_uuid": "55d69afd798b6f63fd5fb40281205b35bb467c2d"
   },
   "outputs": [],
   "source": [
    "sales_train.item_price.hist()"
   ]
  },
  {
   "cell_type": "code",
   "execution_count": null,
   "metadata": {
    "_uuid": "2f973bcd254109bf516c1e11632b5f29cb1e6841"
   },
   "outputs": [],
   "source": [
    "sales_train.item_price.value_counts()"
   ]
  },
  {
   "cell_type": "code",
   "execution_count": null,
   "metadata": {
    "_uuid": "596725ec3695fff52ffb0c1381c56913951c6a19"
   },
   "outputs": [],
   "source": [
    "sales_train.item_price.nunique()"
   ]
  },
  {
   "cell_type": "code",
   "execution_count": null,
   "metadata": {
    "_uuid": "189e61196f7bc5194c17660db55cde5a4ec292b1"
   },
   "outputs": [],
   "source": [
    "sales_train.item_price.max()"
   ]
  },
  {
   "cell_type": "code",
   "execution_count": null,
   "metadata": {
    "_uuid": "b4834ffc4a52d089414c62d09249f4e8e9e112a2"
   },
   "outputs": [],
   "source": [
    "print(sales_train[sales_train.item_price==sales_train.item_price.max()])"
   ]
  },
  {
   "cell_type": "code",
   "execution_count": null,
   "metadata": {
    "_uuid": "3499f97fa356a50a0157d80e048603d61fd5e90e"
   },
   "outputs": [],
   "source": [
    "print(sales_train[sales_train.item_price==sales_train.item_price.max()].item_id)"
   ]
  },
  {
   "cell_type": "code",
   "execution_count": null,
   "metadata": {
    "_uuid": "143893e1c6f4632e8780945091d111b899359ec2",
    "scrolled": true
   },
   "outputs": [],
   "source": [
    "print(items[items.item_id==6066])"
   ]
  },
  {
   "cell_type": "code",
   "execution_count": null,
   "metadata": {
    "_uuid": "edc218ff4ed5736065935c978f4692fb36a9eea9"
   },
   "outputs": [],
   "source": [
    "# Radmin is a remote control software - dont think that it is that expensive. Let's check if it was sold for \"normal\" prices\n",
    "print(sales_train[sales_train.item_id==6066])"
   ]
  },
  {
   "cell_type": "code",
   "execution_count": null,
   "metadata": {
    "_uuid": "b10ce7ecbf06d93da1a2cea32754ef4efed7eed5"
   },
   "outputs": [],
   "source": [
    "# Only this one time. Interesting. Then maybe it is right. One huge license?\n",
    "# Let's see if there are other Radmin versions\n",
    "# and if this is the only outlier in price\n",
    "print(sales_train[sales_train.item_price>50000])"
   ]
  },
  {
   "cell_type": "code",
   "execution_count": null,
   "metadata": {
    "_uuid": "b940d6007b2fbb7d5f86be1ac4231f6a19d52946"
   },
   "outputs": [],
   "source": [
    "# ok lets leave it in for now.\n",
    "sales_train[sales_train.item_price<60000].item_price.hist()"
   ]
  },
  {
   "cell_type": "code",
   "execution_count": null,
   "metadata": {
    "_uuid": "987a331b137514dc720a511cd1d9c045692bbf71"
   },
   "outputs": [],
   "source": [
    "sales_train[sales_train.item_price<30000].item_price.hist()"
   ]
  },
  {
   "cell_type": "code",
   "execution_count": null,
   "metadata": {
    "_uuid": "2b1e4831ae2f5ec325ddfc4c1c9874d88d10b6bc"
   },
   "outputs": [],
   "source": [
    "sales_train[sales_train.item_price<15000].item_price.hist()"
   ]
  },
  {
   "cell_type": "code",
   "execution_count": null,
   "metadata": {
    "_uuid": "e210d4f89aa50b5b7ab0db989ca4bcd7927e9d35"
   },
   "outputs": [],
   "source": [
    "sales_train[sales_train.item_price<5000].item_price.hist()"
   ]
  },
  {
   "cell_type": "code",
   "execution_count": null,
   "metadata": {
    "_uuid": "c238c626e09cbb819189912a42f4103b1635f103"
   },
   "outputs": [],
   "source": [
    "sales_train[sales_train.item_price<3000].item_price.hist()"
   ]
  },
  {
   "cell_type": "code",
   "execution_count": null,
   "metadata": {
    "_uuid": "44cf136236bef7a3a915f26101507afa0850d317"
   },
   "outputs": [],
   "source": [
    "sales_train[sales_train.item_price<1000].item_price.hist()"
   ]
  },
  {
   "cell_type": "code",
   "execution_count": null,
   "metadata": {
    "_uuid": "a0dd62083f9bf42104d9983a234c545b28bc4745"
   },
   "outputs": [],
   "source": [
    "# So definetly lets build some categories on price. There seems to be mayority is small B2C business but there are also big B2B deals.\n",
    "\n",
    "# In general I should understand more what actually the products are:\n",
    "print(item_categories.head(300))"
   ]
  },
  {
   "cell_type": "code",
   "execution_count": null,
   "metadata": {
    "_uuid": "5a424d22591e8bd2c870b54685deb0c0faa49a0c"
   },
   "outputs": [],
   "source": [
    "# Playstation, X-Box and kyrillic things.\n",
    "# Lets translate the column (and also the shop column - check if we can see cities)\n",
    "\"\"\"from textblob import TextBlob\n",
    "\n",
    "item_categories['english'] = item_categories['item_category_name'].str.encode('cp437', 'ignore').apply(lambda x:TextBlob(x.strip()).translate(to='en'))\n",
    "\"\"\"\n",
    "\"\"\"\n",
    "from unidecode import unidecode\n",
    "item_categories['english'] = unidecode(item_categories['item_category_name'])\n",
    "\"\"\"\n",
    "# 3rd solution worked out: https://stackoverflow.com/questions/14173421/use-string-translate-in-python-to-transliterate-cyrillic\n",
    "symbols=(u\"абвгдеёжзийклмнопрстуфхцчшщъыьэюяАБВГДЕЁЖЗИЙКЛМНОПРСТУФХЦЧШЩЪЫЬЭЮЯ\", u\"abvgdeejzijklmnoprstufhzcss_y_euaABVGDEEJZIJKLMNOPRSTUFHZCSS_Y_EUA\")\n",
    "english = {ord(a):ord(b) for a, b in zip(*symbols)}\n",
    "\n",
    "item_categories['items_english'] = item_categories['item_category_name'].apply(lambda x: x.translate(english))\n",
    "\n",
    "print(item_categories.items_english.head(100))\n",
    "\n",
    "# Observations:\n",
    "# In categories are meta-categories: Accessories, Console, PC, programs, music...\n",
    "# Added to to-do list: Take these meta-categories as features\n"
   ]
  },
  {
   "cell_type": "code",
   "execution_count": null,
   "metadata": {
    "_uuid": "45c5754c78a1ac9a2d8673c1846edb894e2bb332",
    "scrolled": true
   },
   "outputs": [],
   "source": [
    "#Split the metacategories with the \"-\"\n",
    "item_categories[\"meta_category\"]=item_categories.items_english.apply(lambda x:x.split(\" - \")[0])\n",
    "print(item_categories.meta_category.head(100))"
   ]
  },
  {
   "cell_type": "code",
   "execution_count": null,
   "metadata": {
    "_uuid": "476c003e5669bd6939cd5e1246a96287659c546b"
   },
   "outputs": [],
   "source": [
    "item_categories.head()"
   ]
  },
  {
   "cell_type": "code",
   "execution_count": null,
   "metadata": {
    "_uuid": "d5ed82e0c010037251d896e77f8113bd098122c6"
   },
   "outputs": [],
   "source": [
    "print(item_categories.meta_category.unique())\n",
    "print(item_categories.meta_category.nunique())\n",
    "#Great! Only 20 makro-categories\n",
    "print(item_categories.meta_category.value_counts())\n",
    "print(item_categories.meta_category)\n",
    "# Of course: I need to put the makro-categories into the data"
   ]
  },
  {
   "cell_type": "code",
   "execution_count": null,
   "metadata": {
    "_uuid": "847a5b9f37cb8261ba5ab13fd34224bf5f0b8b67",
    "scrolled": true
   },
   "outputs": [],
   "source": [
    "shops.info()\n",
    "\n",
    "# Translate shop names\n",
    "shops['shops_english'] = shops['shop_name'].apply(lambda x: x.translate(english))\n",
    "print(shops.shops_english.head(100))\n",
    "\n",
    "# YES! First word is the city! Great feature to extract! Another \"Makro-category\"\n",
    "\"\"\"\n",
    "# And because it is only 60 objects this can even be done and checked manually\n",
    "shops[\"town\"] =[\"Yakutsk\",\"Yakutsk\",\"Adygea\",\"Balasiha\",\"Volzhskij\",\"Vologda\",\"Voronej\",\"Voronej\",]\n",
    "\"\"\"\n",
    "# No this was to stupid:\n",
    "shops[\"town\"]=shops.shops_english.apply(lambda x:x.split()[0])\n",
    "print(shops.town)\n",
    "\n",
    "# While doing this and researching cities next idea: Another makro feature of \"regions\" eg Balashiha belongs to moscow region\n",
    "shops[\"region\"]=[\"Sakha\",\"Sakha\",\"Adygea\",\"Moscow\",\"Volgograd\", \"Vologda\", \"voronezh\",\"voronezh\",\"voronezh\",\"Vyezdnaa\", \"Moscow\", \"Moscow\",\"Internet\", \"tatarstan\", \"tatarstan\",\"Kaluga\", \"Moscow\", \"Moscow\", \"Moscow\", \"Kursk\", \"Moscow\", \"Moscow\", \"Moscow\", \"Moscow\", \"Moscow\", \"Moscow\", \"Moscow\", \"Moscow\", \"Moscow\", \"Moscow\", \"Moscow\", \"Moscow\", \"Moscow\",\"Moscow\",\"novgorod\",\"novgorod\",\"novosibirsk\",\"novosibirsk\",\"omsk\",\"rostov\",\"rostov\",\"rostov\",\"Saint Peterburg\",\"Saint Peterburg\",\"samara\",\"samara\",\"moscow\",\"Khanty-Mansi\",\"Tomsk\",\"Tyumen\",\"tyumen\",\"tyumen\",\"Bashkortostan\",\"Bashkortostan\",\"moscow\",\"zifrovoj\",\"moscow\",\"sakha\",\"sakha\",\"yaroslavl\"]\n",
    "print(shops.town.nunique())\n",
    "print(shops.region.nunique())\n",
    "# hmmm didn't help much - only 6 towns that belong to Moscow region\n",
    "\n",
    "shops.to_csv('final_shops.csv',index=False)"
   ]
  },
  {
   "cell_type": "code",
   "execution_count": null,
   "metadata": {
    "_uuid": "954c85f14556a2ff8f92781cd69adf06fe999598"
   },
   "outputs": [],
   "source": [
    "# Always print (parts of) data that you are examining just to get an idea\n",
    "# done\n",
    "print(test.shape)\n",
    "print(sales_train.shape)\n",
    "\n",
    "# 3 features missing in test\n",
    "print(test.columns)\n",
    "print(sales_train.columns)\n",
    "\n",
    "print(test.head())\n",
    "# ok test is really only the form I need to fill. per shop per item forecast revenue for the specific month\n",
    "# Therefore need to split later training data into train & validation set\n",
    "# Feedback on test-set will be the evaluation via Kaggle and/or coursera"
   ]
  },
  {
   "cell_type": "code",
   "execution_count": null,
   "metadata": {
    "_uuid": "78832202652eb1f174fadcf5dc4e575ab691d14f"
   },
   "outputs": [],
   "source": [
    "sales_train.columns\n",
    "# Let's start with the dates column\n",
    "sales_train['day'] = pd.to_datetime(sales_train['date'], format = '%d.%m.%Y').dt.day\n",
    "sales_train['month'] = pd.to_datetime(sales_train['date'], format = '%d.%m.%Y').dt.month\n",
    "sales_train['year'] = pd.to_datetime(sales_train['date'], format = '%d.%m.%Y').dt.year\n",
    "sales_train['weekday'] = pd.to_datetime(sales_train['date'], format = '%d.%m.%Y').dt.dayofweek\n",
    "sales_train.columns\n",
    "print(sales_train.head())"
   ]
  },
  {
   "cell_type": "code",
   "execution_count": null,
   "metadata": {
    "_uuid": "4eed54596abfe4643ee5a685b3e0b89ebd7b72a8"
   },
   "outputs": [],
   "source": [
    "# Dates look ordered and shops also\n",
    "sales_train.date_block_num.plot()"
   ]
  },
  {
   "cell_type": "code",
   "execution_count": null,
   "metadata": {
    "_uuid": "239f9c19e4f6612d19f27222e2495a7e1b600989"
   },
   "outputs": [],
   "source": [
    "sales_train.shop_id.plot(figsize=(20,4))\n",
    "# Interesting. There is a rythm to it"
   ]
  },
  {
   "cell_type": "code",
   "execution_count": null,
   "metadata": {
    "_uuid": "7ac33b29aec698a1bc94177dbf0c56c9f31cf60e"
   },
   "outputs": [],
   "source": [
    "sales_train.weekday[0:100].plot(figsize=(20,4))"
   ]
  },
  {
   "cell_type": "code",
   "execution_count": null,
   "metadata": {
    "_uuid": "5629a45b6a296515a9349bb7dfc106c7250009a4"
   },
   "outputs": [],
   "source": [
    "sales_train.head(100)\n",
    "\"\"\"\n",
    "Aha. Order of train set is by\n",
    "- month\n",
    "- shops per month\n",
    "- item_id per shop\n",
    "- dates of items per shop\n",
    "\"\"\""
   ]
  },
  {
   "cell_type": "code",
   "execution_count": null,
   "metadata": {
    "_uuid": "fab956d7b3122c932b84dcb2c87ba9fd81ae1f8e"
   },
   "outputs": [],
   "source": [
    "sales_train[3000:4000]\n",
    "# No hypotheses from above is wrong. Shop 25 appears again after shop 24"
   ]
  },
  {
   "cell_type": "code",
   "execution_count": null,
   "metadata": {
    "_uuid": "dc1b255cf7365be2fc93fe4308df52650f1ce9de"
   },
   "outputs": [],
   "source": [
    "sales_train.item_id[1:10000].plot(figsize=(20,4))\n",
    "# There seem to be groups. Maybe it has to do with categories?"
   ]
  },
  {
   "cell_type": "code",
   "execution_count": null,
   "metadata": {
    "_uuid": "ebc2874fddbd12a32ae2597cc14a03e095bfe6d0"
   },
   "outputs": [],
   "source": [
    "sales_train=sales_train.merge(items, how='left')\n",
    "sales_train=sales_train.merge(item_categories,how=\"left\")\n",
    "sales_train=sales_train.merge(shops,how=\"left\")"
   ]
  },
  {
   "cell_type": "code",
   "execution_count": null,
   "metadata": {
    "_uuid": "a9cf0065f6e7355c661b99c95228070924778846"
   },
   "outputs": [],
   "source": [
    "sales_train.head()"
   ]
  },
  {
   "cell_type": "code",
   "execution_count": null,
   "metadata": {
    "_uuid": "c95c543ab151ca23e1cdb21a94353c87b057b158"
   },
   "outputs": [],
   "source": [
    "sales_train.drop(\"item_name\",axis=1,inplace=True)\n",
    "sales_train.drop(\"shop_name\",axis=1,inplace=True)\n",
    "sales_train.drop(\"item_category_name\",axis=1,inplace=True)\n",
    "sales_train.head()"
   ]
  },
  {
   "cell_type": "code",
   "execution_count": null,
   "metadata": {
    "_uuid": "06fa8ac2d466876f1a434dc74ea47c74a1862612"
   },
   "outputs": [],
   "source": [
    "sales_train.isnull().values.any()\n",
    "# No values NaN\n",
    "# Maybe NaN values have been replaced by a number? Carefully check for outliers"
   ]
  },
  {
   "cell_type": "code",
   "execution_count": null,
   "metadata": {
    "_uuid": "b46ae425317b5b3419e89ca5f6d4e4236706dd8f"
   },
   "outputs": [],
   "source": [
    "sales_train.head(200)\n",
    "# Can't see a strict order. Kind of per shop. Kind of per item_id. "
   ]
  },
  {
   "cell_type": "code",
   "execution_count": null,
   "metadata": {
    "_uuid": "9eebe2bc0aeb0e62b736c6e7d377a14790768f5e"
   },
   "outputs": [],
   "source": [
    "sales_train[\"revenue\"]=sales_train.item_cnt_day * sales_train.item_price"
   ]
  },
  {
   "cell_type": "code",
   "execution_count": null,
   "metadata": {
    "_uuid": "4353a5626e9689c8069a180d323f3abe2185891b"
   },
   "outputs": [],
   "source": [
    "sales_train.groupby(\"year\").sum()\n",
    "# Interesting: 2015 lower revenue - no! We dont have full years. Reaches from beginning of 2013 to October 2015"
   ]
  },
  {
   "cell_type": "code",
   "execution_count": null,
   "metadata": {
    "_uuid": "282ec56811e79356727c8f64952a0f385cf2a488"
   },
   "outputs": [],
   "source": [
    "sales_train.groupby(\"date_block_num\").sum()[\"revenue\"].plot()\n",
    "# Very clearly typical retail pattern: Peak at christmas and low in Summer"
   ]
  },
  {
   "cell_type": "code",
   "execution_count": null,
   "metadata": {
    "_uuid": "88bbf25b0a61ed69111484e103491cd2ce648ada"
   },
   "outputs": [],
   "source": [
    "sales_train.groupby(\"weekday\").sum()[\"revenue\"].plot()\n",
    "# looks like Friday, Saturday and Sunday are the busiest days"
   ]
  },
  {
   "cell_type": "code",
   "execution_count": null,
   "metadata": {
    "_uuid": "c23694ba41ef51a0ba36d043a70098be6d029686"
   },
   "outputs": [],
   "source": [
    "sales_train.groupby(\"shop_id\").sum()[\"revenue\"].plot.bar()\n",
    "# Significant differences\n",
    "# But careful: Could be that shops opened later or closed earlier\n",
    "# And what is with the online shop?"
   ]
  },
  {
   "cell_type": "code",
   "execution_count": null,
   "metadata": {
    "_uuid": "e0e3e7abba8e5d657a502bea1e57fea15c66ee4a"
   },
   "outputs": [],
   "source": [
    "sales_train[sales_train[\"shops_english\"]==\"Internet-magazin CS\"][\"revenue\"].sum()\n",
    "# 1.1 in above scale so not the most big one"
   ]
  },
  {
   "cell_type": "code",
   "execution_count": null,
   "metadata": {
    "_uuid": "4c99331fd52b638a01b69c84c4b106d7d8a2283c"
   },
   "outputs": [],
   "source": [
    "sales_train[sales_train[\"shops_english\"]==\"Internet-magazin CS\"][\"revenue\"].plot()\n",
    "# funny spikes\n",
    "# I expected steady and increasing sales if it would be an online shop"
   ]
  },
  {
   "cell_type": "code",
   "execution_count": null,
   "metadata": {
    "_uuid": "81e2e1ee58a36aa9622c01e61228573608c89329"
   },
   "outputs": [],
   "source": [
    "sales_train[sales_train[\"shops_english\"]==\"Internet-magazin CS\"].groupby(\"date_block_num\").sum()[\"revenue\"].plot()"
   ]
  },
  {
   "cell_type": "code",
   "execution_count": null,
   "metadata": {
    "_uuid": "22746023784db7096d2d5e7077f90ff037bed4f8"
   },
   "outputs": [],
   "source": [
    "# How does this look for other shops?\n",
    "sales_train[sales_train[\"shops_english\"]==\"Vyezdnaa Torgovla\"][\"revenue\"].plot()\n",
    "# Spikes seem to be rather normal when larger things are being sold.\n",
    "# These \"things\" need to be looked into much deeper and when they occure. They have a mayor impact! \n",
    "# How can tihs be modelled? Is this yearly licenses? Or random occurence and I should model a random? "
   ]
  },
  {
   "cell_type": "code",
   "execution_count": null,
   "metadata": {
    "_uuid": "afcd8a369be72c8087a492cb2ab9c81bd520e2f1"
   },
   "outputs": [],
   "source": [
    "sales_train[sales_train[\"shops_english\"]==\"Vyezdnaa Torgovla\"].groupby(\"date_block_num\").sum()[\"revenue\"].plot()\n",
    "# This looks very strange\n",
    "# Has it to do with a test-train split? No data for monthes 23-31?"
   ]
  },
  {
   "cell_type": "code",
   "execution_count": null,
   "metadata": {
    "_uuid": "8e7422fec70ffc4eda251b731cc2cac9e9e94358",
    "scrolled": false
   },
   "outputs": [],
   "source": [
    "sales_train.groupby(\"shop_id\").sum()[\"revenue\"]"
   ]
  },
  {
   "cell_type": "code",
   "execution_count": null,
   "metadata": {
    "_uuid": "0c095467bcd521c1a5c633a72c7eec9a61c925ef"
   },
   "outputs": [],
   "source": [
    "# Understand the training data structure a bit better\n",
    "sales_train.shop_id.plot(figsize=(20,4))\n",
    "# Why so irregular?"
   ]
  },
  {
   "cell_type": "code",
   "execution_count": null,
   "metadata": {
    "_uuid": "6c1ff9208ea2d9a66fd399c8aa9578baafccebb1"
   },
   "outputs": [],
   "source": [
    "sales_train.groupby(\"date_block_num\").count().town.plot()\n",
    "# The number of transactions is shrinking!"
   ]
  },
  {
   "cell_type": "code",
   "execution_count": null,
   "metadata": {
    "_uuid": "bddcca16fba016e36c0b6a0179fe54693e0362e8"
   },
   "outputs": [],
   "source": [
    "sales_train.groupby(\"date_block_num\").mean().item_price.plot()\n",
    "# But because average price is increasing stronger the revenue is increasing"
   ]
  },
  {
   "cell_type": "code",
   "execution_count": null,
   "metadata": {
    "_uuid": "a1516aba1cd66f40b75bf6056b8b135b1fb40840"
   },
   "outputs": [],
   "source": [
    "sales_train.groupby(\"date_block_num\").mean().revenue.plot()"
   ]
  },
  {
   "cell_type": "code",
   "execution_count": null,
   "metadata": {
    "_uuid": "8ba06900fbc5454769f71619d98bfd6e054e5605"
   },
   "outputs": [],
   "source": [
    "sales_train.groupby(\"date_block_num\").sum().item_cnt_day.plot()\n",
    "#Just doublechecking it is not only number of transactions but also total items"
   ]
  },
  {
   "cell_type": "code",
   "execution_count": null,
   "metadata": {
    "_uuid": "551158cba2fe53254bfe438d27ed1ce332d439ec"
   },
   "outputs": [],
   "source": [
    "# https://tradingeconomics.com/russia/inflation-rate-mom\n",
    "# Inflation rate in russia over the period was oscillating between 0 and 1%\n",
    "# except one huge peak (to 4% per month very shortly) end of 2014, beginning 2015\n",
    "# Due to lower oil prices and Western sanctions imposed over Ukraine\n",
    "\n",
    "# https://www.quora.com/Economy-of-Russia-What-caused-the-high-inflation-in-Russia-in-2014-and-2015\n",
    "# It translates to a yearly inflation rate of 17%    "
   ]
  },
  {
   "cell_type": "code",
   "execution_count": null,
   "metadata": {
    "_uuid": "a9c6b97075dd5714e1d28dbb1e28398eb1418945"
   },
   "outputs": [],
   "source": [
    "sns.pairplot(sales_train)\n",
    "\n",
    "# if you work in the kernel you should de-activate this as it takes a long time\n",
    "\n",
    "\"\"\"Observations:\n",
    "- one extreme outlier in price\n",
    "- one extreme outlier in cnt_day\n",
    "- one month (~10 date_block_num) has a lot of high revenue items\n",
    "- certain item_ids have wide range of revenues, some have outliers\n",
    "\"\"\""
   ]
  },
  {
   "cell_type": "code",
   "execution_count": null,
   "metadata": {
    "_uuid": "9ae62baf2133cfb6c562be6629fadd8e2e9fa6ac"
   },
   "outputs": [],
   "source": [
    "sales_train.groupby([\"shop_id\",\"date_block_num\"]).sum()\n",
    "# Definetly big difference in how long shops are on the market"
   ]
  },
  {
   "cell_type": "code",
   "execution_count": null,
   "metadata": {
    "_uuid": "a7cbb6e7b2d26a04c4def7e3f00f0b8592f85973"
   },
   "outputs": [],
   "source": [
    "shop_life=pd.DataFrame(columns=[\"shop_id\",\"Start\", \"Stop\"])\n",
    "shop_life[\"shop_id\"]=np.arange(60)\n",
    "shop_life[\"Start\"]=sales_train.groupby(\"shop_id\")[\"date_block_num\"].min()\n",
    "shop_life[\"Stop\"]=sales_train.groupby(\"shop_id\")[\"date_block_num\"].max()\n",
    "shop_life.merge(shops, how=\"left\").drop(\"shop_name\",axis=1)\n",
    "print(shop_life)\n",
    "\"\"\"\n",
    "Observations:\n",
    "- shops 10 and 11 have the same name, just ^2 and ? -> Check if shop 10 is empty at month 25 (a)\n",
    "- shops 39 and 40 seem to be the same? (b)\n",
    "- definetly need to check what shops are in the test-set (c)\n",
    "- should closed shops be considered? (d)\n",
    "\"\"\""
   ]
  },
  {
   "cell_type": "code",
   "execution_count": null,
   "metadata": {
    "_uuid": "7e7f712e161f0815e068e8c088f53853674660f9"
   },
   "outputs": [],
   "source": [
    "# (a)\n",
    "sales_train[(sales_train[\"shop_id\"]==10) & (sales_train[\"date_block_num\"]==25)]"
   ]
  },
  {
   "cell_type": "code",
   "execution_count": null,
   "metadata": {
    "_uuid": "d0186e6b76fe646ef00cc1540fec98ca541136be"
   },
   "outputs": [],
   "source": [
    "sales_train[(sales_train[\"shop_id\"]==11) & (sales_train[\"date_block_num\"]==25)]"
   ]
  },
  {
   "cell_type": "code",
   "execution_count": null,
   "metadata": {
    "_uuid": "6031cd99c4c5a8549ec171aa5a35ced999ffcc4f"
   },
   "outputs": [],
   "source": [
    "sales_train[(sales_train[\"shop_id\"]==10) & (sales_train[\"date_block_num\"]==24)]"
   ]
  },
  {
   "cell_type": "code",
   "execution_count": null,
   "metadata": {
    "_uuid": "63421c9007cc3983c585e08b26d6274d49a1b772"
   },
   "outputs": [],
   "source": [
    "sales_train[(sales_train[\"shop_id\"]==10) & (sales_train[\"date_block_num\"]==26)]"
   ]
  },
  {
   "cell_type": "code",
   "execution_count": null,
   "metadata": {
    "_uuid": "96d4d114d8ff86315e484c8621ada8e6a98b8b57"
   },
   "outputs": [],
   "source": [
    "sales_train[(sales_train[\"shop_id\"]==11) & (sales_train[\"date_block_num\"]==24)]"
   ]
  },
  {
   "cell_type": "code",
   "execution_count": null,
   "metadata": {
    "_uuid": "0f8a3a2cf8537671cf39e6aa4cfa89786cda3720"
   },
   "outputs": [],
   "source": [
    "sales_train[(sales_train[\"shop_id\"]==11) & (sales_train[\"date_block_num\"]==26)]"
   ]
  },
  {
   "cell_type": "code",
   "execution_count": null,
   "metadata": {
    "_uuid": "a13e32ca9c25bac57d338ca175a4c70e9457ce1b"
   },
   "outputs": [],
   "source": [
    "# Good. Brute-force but clear.\n",
    "# Let's have a 100% picture:\n",
    "sales_train[(sales_train[\"shop_id\"]==10) | (sales_train[\"shop_id\"]==11)].groupby([\"shop_id\",\"date_block_num\"]).sum()\n",
    "# Yes, definetly."
   ]
  },
  {
   "cell_type": "code",
   "execution_count": null,
   "metadata": {
    "_uuid": "fbb4466bced6f2ef8a725ccc0f24ed13dcda3b9a"
   },
   "outputs": [],
   "source": [
    "sales_train.loc[sales_train[\"shop_id\"]==11,\"shop_id\"]=10\n",
    "sales_train[sales_train[\"shop_id\"]==11]"
   ]
  },
  {
   "cell_type": "code",
   "execution_count": null,
   "metadata": {
    "_uuid": "bfae3d0660edef691cd571e8f26ecac005098387"
   },
   "outputs": [],
   "source": [
    "sales_train[(sales_train[\"shop_id\"]==10)&(sales_train[\"date_block_num\"]==25)]"
   ]
  },
  {
   "cell_type": "code",
   "execution_count": null,
   "metadata": {
    "_uuid": "3e8a708a76251e9b682d39630881b601803f1e9d"
   },
   "outputs": [],
   "source": [
    "sales_train.to_csv('sales_train.csv',index=False)"
   ]
  },
  {
   "cell_type": "code",
   "execution_count": null,
   "metadata": {
    "_uuid": "0e666bb72c90f7b8eeeacb0fe1fdca008651d78a"
   },
   "outputs": [],
   "source": [
    "# Good. Next one:\n",
    "# b) shops 39 and 40 seem to be the same?\n",
    "sales_train[(sales_train[\"shop_id\"]==39) | (sales_train[\"shop_id\"]==40)].groupby([\"shop_id\",\"date_block_num\"]).sum()\n",
    "# No, seems to be two separate shops. Both opened in month 14, one closed earlier than the other"
   ]
  },
  {
   "cell_type": "code",
   "execution_count": null,
   "metadata": {
    "_uuid": "8c61b582778b54491c0f342a7990b575be6e95d7"
   },
   "outputs": [],
   "source": [
    "#c) Check what shops are in the test-set\n",
    "print(sorted(test.shop_id.unique()))\n",
    "test_list=list(test.shop_id.unique())\n",
    "complete_list=list(range(60))\n",
    "out_of_test=[x for x in complete_list if x not in test_list]\n",
    "print(out_of_test)\n",
    "print(shop_life[shop_life[\"Stop\"]<33])\n",
    "# 9, 11, 20, are not in test but were active in time_period 33\n",
    "# What could be the reason?\n",
    "# Maybe they closed then?\n",
    "# A good question is whether the train model should also look at the shops that are in test!?\n",
    "print(shops.loc[9])\n",
    "#print(shops.loc[11])\n",
    "# Yes of course this one I deleted manually\n",
    "print(shops.loc[20])\n",
    "sales_train[(sales_train[\"shop_id\"]==9) | (sales_train[\"shop_id\"]==20)].groupby([\"shop_id\",\"date_block_num\"]).sum()[\"revenue\"]\n",
    "# Aha, yet another trick. There is data only for limited periods for these shops. \n",
    "# Lets check if this is the reason and others are consistently in business\n",
    "sales_train[(sales_train[\"shop_id\"]==3) | (sales_train[\"shop_id\"]==24)].groupby([\"shop_id\",\"date_block_num\"]).sum()[\"revenue\"]\n",
    "# Yes looks fine\n",
    "\n",
    "# I think it depends what I want to achieve whether i include these shops or not.\n",
    "# Definetly a kind of different distribution in train and test\n"
   ]
  },
  {
   "cell_type": "code",
   "execution_count": null,
   "metadata": {
    "_uuid": "73dc4f06b10d14ac28985629c0d48e2320527ac4",
    "scrolled": true
   },
   "outputs": [],
   "source": [
    "# I want to see KPIs over time (prices, revenue per shop per month)\n",
    "# Let's start with prices\n",
    "sales_train.groupby(\"item_id\").sum()\n",
    "# Clearly to be seen some items only very short time in sale"
   ]
  },
  {
   "cell_type": "code",
   "execution_count": null,
   "metadata": {
    "_uuid": "c984f46318e9b5d4f58d006244ecd989ff41f014"
   },
   "outputs": [],
   "source": [
    "sales_train.groupby(\"item_id\").sum()[\"revenue\"].hist(figsize=(20,4),bins=100)\n",
    "# many many items with little revenue"
   ]
  },
  {
   "cell_type": "code",
   "execution_count": null,
   "metadata": {
    "_uuid": "f1ea62a36c8a7e8e3fc217f965417bb2b72bd5ef"
   },
   "outputs": [],
   "source": [
    "sales_train.groupby(\"item_category_id\").sum()"
   ]
  },
  {
   "cell_type": "code",
   "execution_count": null,
   "metadata": {
    "_uuid": "b3d4d4a571782d281be1ef1819c58b023c1b9f02"
   },
   "outputs": [],
   "source": [
    "sales_train.groupby(\"item_category_id\").sum()[\"revenue\"].hist(figsize=(20,4),bins=100)\n",
    "# many many items with little revenue"
   ]
  },
  {
   "cell_type": "code",
   "execution_count": null,
   "metadata": {
    "_uuid": "ddf46809d33e710b828c26ab947f6408a48eeacb"
   },
   "outputs": [],
   "source": [
    "sales_train.groupby([\"date_block_num\",\"item_category_id\"]).sum()[\"revenue\"].unstack()\n",
    "# unstack is a great function!\n",
    "# https://scentellegher.github.io/programming/2017/07/15/pandas-groupby-multiple-columns-plot.html\n",
    "# https://pandas.pydata.org/pandas-docs/stable/generated/pandas.DataFrame.unstack.html\n",
    "# https://nikgrozev.com/2015/07/01/reshaping-in-pandas-pivot-pivot-table-stack-and-unstack-explained-with-pictures/\n",
    "\n",
    "sales_train.groupby([\"date_block_num\",\"item_category_id\"]).sum()[\"revenue\"].unstack().plot(figsize=(20,20))"
   ]
  },
  {
   "cell_type": "code",
   "execution_count": null,
   "metadata": {
    "_uuid": "1d8d441b1f65bd3e38e76538af09eadaa8a8cadd"
   },
   "outputs": [],
   "source": [
    "# Let's just look at growth rates of categories (CAGR's)"
   ]
  },
  {
   "cell_type": "code",
   "execution_count": null,
   "metadata": {
    "_uuid": "563b0fec12582f3d89ce79688dd601e8ab34914c"
   },
   "outputs": [],
   "source": [
    "sales_train.groupby([\"date_block_num\",\"meta_category\"]).sum()[\"revenue\"].unstack().plot(figsize=(20,20))\n",
    "# Consoles with 2 big spikes\n",
    "# Exactly at Christmas! :-) Playstations from Santa Claud: Or Father Frost as it is in Russia I think"
   ]
  },
  {
   "cell_type": "code",
   "execution_count": null,
   "metadata": {
    "_uuid": "2b6371ddda4b038d3f8e87ad9218dbe797a7935b"
   },
   "outputs": [],
   "source": [
    "sales_train.groupby([\"date_block_num\",\"shop_id\"]).sum()[\"revenue\"].unstack().plot(figsize=(20,20))\n",
    "# of course same spikes. Let's normalize"
   ]
  },
  {
   "cell_type": "code",
   "execution_count": null,
   "metadata": {
    "_uuid": "30a3e32719538380c8d63b069240b5c584fdd6a1"
   },
   "outputs": [],
   "source": [
    "sales_train.groupby([\"date\",\"shop_id\"]).sum()[\"revenue\"].unstack().plot(figsize=(20,20))\n",
    "# Very spiky (see above where I saw spikes for first time)\n",
    "# Looks difficult to predict\n",
    "# Probably a good idea to modell low-cost predictable items separately and then model random big sales"
   ]
  },
  {
   "cell_type": "code",
   "execution_count": null,
   "metadata": {
    "_uuid": "7b01c6b8ec943df471dbad8f32ae89313741283e"
   },
   "outputs": [],
   "source": [
    "# What is total revenue of company?\n",
    "sales_train.groupby([\"date_block_num\"]).sum()[\"revenue\"].plot(figsize=(20,5))"
   ]
  },
  {
   "cell_type": "code",
   "execution_count": null,
   "metadata": {
    "_uuid": "f77b6b41e22382871f56e33b662e8d6cb1a0ce53"
   },
   "outputs": [],
   "source": [
    "# I am working through the question list now - so maybe a bit random\n",
    "# Slowly I start to think more about how actually to do the modelling\n",
    "# At the moment I have lost a bit the track on how this will look like and how this actually works.\n",
    "\n",
    "# Products out of sale:\n",
    "#All item ids that are being sold in the last month in the train data\n",
    "sales_train[sales_train.date_block_num==33][\"item_id\"]\n",
    "print(sales_train[sales_train.date_block_num==33][\"item_id\"].nunique())\n",
    "# All item ids from all times\n",
    "print(sales_train.item_id.nunique())\n",
    "\n",
    "# Wow: more than 3/4 of items out of sale. But makes sense. Music titles, old programs, old consoles and PCs\n",
    "\n",
    "# How about the test data?\n",
    "print(test.item_id.nunique())\n",
    "# 300 less than was sold in the month before\n",
    "# Are there items that are new?\n",
    "a=set(test.item_id)\n",
    "b=set(sales_train[sales_train.date_block_num==33][\"item_id\"])"
   ]
  },
  {
   "cell_type": "code",
   "execution_count": null,
   "metadata": {
    "_uuid": "1cf45b2936404f2932fff55d76464cfdd31474b1",
    "scrolled": true
   },
   "outputs": [],
   "source": [
    "new_in_test_items=[x for x in a if x not in b]\n",
    "print(len(new_in_test_items))\n",
    "print(new_in_test_items[0:100])\n",
    "print(sales_train[sales_train[\"item_id\"]==8214])\n",
    "# ok this is an item that is not often sold (only 2 times in dataset)\n",
    "print(sales_train[sales_train[\"item_id\"]==4893]) #(18 times in dataset)\n",
    "\n",
    "# a) Let's check how many items are just sold <100 times - maybe different categories? FMCC vs. B2B\n",
    "\n",
    "# Really new items:\n",
    "c=set(sales_train[\"item_id\"])\n",
    "print(len(c))\n",
    "\n",
    "new_in_test_items2=[x for x in a if x not in c]\n",
    "print(len(new_in_test_items2))\n",
    "print(new_in_test_items2[0:100])\n",
    "\n",
    "print(sales_train[sales_train[\"item_id\"]==83])\n",
    "print(sales_train[sales_train[\"item_id\"]==430])\n",
    "\n",
    "# ok it is working. But funny that such low IDs appear for the first time. \n",
    "# b) Aren't the IDs an ever growing item? Or are certain ID-number-blocks reserved for categories?"
   ]
  },
  {
   "cell_type": "code",
   "execution_count": null,
   "metadata": {
    "_uuid": "6c28949472cbb938fa7ea9382ab881f8e80bccd3"
   },
   "outputs": [],
   "source": [
    "# How many items are only sold rarely?"
   ]
  },
  {
   "cell_type": "code",
   "execution_count": null,
   "metadata": {
    "_uuid": "55a10f96a63ef250853be3177fdfefdb27b28e7c"
   },
   "outputs": [],
   "source": [
    "# Aren't the IDs an ever growing item? Or are certain ID-number-blocks reserved for categories?\n",
    "sales_train[sales_train.item_category_id==11]\n",
    "# Interesting, the same item (PS3) has many different product ids"
   ]
  },
  {
   "cell_type": "code",
   "execution_count": null,
   "metadata": {
    "_uuid": "3cb6bbd15500b2f49b15c41960c9a3a32198a8f7"
   },
   "outputs": [],
   "source": [
    "print(sales_train[sales_train.items_english==\"Igrovye konsoli - PS3\"])"
   ]
  },
  {
   "cell_type": "code",
   "execution_count": null,
   "metadata": {
    "_uuid": "40b8feb766ea2cb8427c4776fcc43f01eda9ad7f",
    "scrolled": false
   },
   "outputs": [],
   "source": [
    "print(sales_train[sales_train.items_english==\"Igrovye konsoli - PS3\"][\"item_id\"].unique())\n",
    "print(sales_train[sales_train.items_english==\"Igrovye konsoli - PS3\"][\"item_id\"].nunique())\n",
    "\n",
    "print(sales_train[sales_train.items_english==\"Igrovye konsoli - PS3\"][\"item_price\"].unique())\n",
    "print(sales_train[sales_train.items_english==\"Igrovye konsoli - PS3\"][\"item_price\"].nunique())"
   ]
  },
  {
   "cell_type": "code",
   "execution_count": null,
   "metadata": {
    "_uuid": "da9c26d17f0792300159c980eda1ad1a69541b58",
    "scrolled": true
   },
   "outputs": [],
   "source": [
    "prices_PS3=sales_train[sales_train.items_english==\"Igrovye konsoli - PS3\"][\"item_price\"]\n",
    "\n",
    "plt.figure(figsize=(20, 8), dpi=80)\n",
    "plt.scatter(prices_PS3.index, prices_PS3,s=0.1)\n",
    "# quite a spread\n",
    "# Why so many item_ids? Does this correlate price per ID?"
   ]
  },
  {
   "cell_type": "code",
   "execution_count": null,
   "metadata": {
    "_uuid": "9d66458ca82350074861f19fef0af86ae8ce76c3"
   },
   "outputs": [],
   "source": [
    "sales_train[\"value\"]=1\n",
    "pivot=pd.pivot_table(sales_train[sales_train.items_english==\"Igrovye konsoli - PS3\"], values=\"value\", index=[\"item_id\"], columns=\"item_price\", fill_value=0) \n",
    "# No, it is not one item id per price\n"
   ]
  },
  {
   "cell_type": "code",
   "execution_count": null,
   "metadata": {
    "_uuid": "2b77f328be321459dadb882625db77b120f8e8f0"
   },
   "outputs": [],
   "source": [
    "print(new_in_test_items)"
   ]
  },
  {
   "cell_type": "code",
   "execution_count": null,
   "metadata": {
    "_uuid": "51e47a12041ea14c41bdbf554511c4b0751a9191",
    "scrolled": true
   },
   "outputs": [],
   "source": [
    "# Now examine price changes and price developments of items\n",
    "sales_train.groupby([\"item_id\",\"item_price\"]).sum()"
   ]
  },
  {
   "cell_type": "code",
   "execution_count": null,
   "metadata": {
    "_uuid": "1bc248e8a2da2f677923de6c410179e66408d9e8"
   },
   "outputs": [],
   "source": [
    "# Now examine the categories\n",
    "\n",
    "# How many items in each category\n",
    "#sales_train.groupby(\"category_id\",\"item_id\").count()"
   ]
  },
  {
   "cell_type": "code",
   "execution_count": null,
   "metadata": {
    "_uuid": "8fa897a3bf102388f10881abff6c5d892bd6b960"
   },
   "outputs": [],
   "source": [
    "# Save the final dataset (to not always calculate everything above when restarting the Kernel)\n",
    "sales_train.to_csv('mycsvfile.csv',index=False)"
   ]
  },
  {
   "cell_type": "code",
   "execution_count": null,
   "metadata": {
    "_uuid": "0543dd8946d681e2ce77569ff5d01d2c8efec413"
   },
   "outputs": [],
   "source": []
  },
  {
   "cell_type": "code",
   "execution_count": null,
   "metadata": {
    "_uuid": "68a6ad7df08167dd902d18f1238f58b3e66719ac"
   },
   "outputs": [],
   "source": [
    "print(os.listdir(\"../\"))"
   ]
  },
  {
   "cell_type": "code",
   "execution_count": null,
   "metadata": {
    "_uuid": "cf2b4dc510476ce4f9fee29c4c26b600d0b199f0"
   },
   "outputs": [],
   "source": [
    "print(os.listdir(\"../working\"))"
   ]
  },
  {
   "cell_type": "code",
   "execution_count": null,
   "metadata": {
    "_uuid": "41183cc3f31d5ef819668453e231db4a6220853a"
   },
   "outputs": [],
   "source": [
    "# Load the pre-processed dataset to continue from here without always calculating everything above\n",
    "train=pd.read_csv('../working/mycsvfile.csv')"
   ]
  },
  {
   "cell_type": "code",
   "execution_count": null,
   "metadata": {
    "_uuid": "b98c7b6eaac8c867f82d0b9bcc7498c170f46dbc"
   },
   "outputs": [],
   "source": []
  },
  {
   "cell_type": "markdown",
   "metadata": {
    "_uuid": "8459f00c4a7c104d7409470cb6dbdca69b06f67a"
   },
   "source": [
    "\n",
    "- A lot around revenues\n",
    "    - differences per shop: how many items, how many categories, how much revenue\n",
    "    - differences of items: how many sold, how different price\n",
    "    - price changes and price spread\n",
    "    - check especially the online channel/shop: strongly increasing sales I assume\n",
    "- categories: How are they distributes? How many items per category? prices per category?\n",
    "- seasonalization of sales? Difference per shop? per price? per category? per product?\n",
    "- how much does price change? Over time? between shops?\n",
    "- how do weekdays differ in sales? How do months differ? Check for number of weekends specifically to see how in November 2015 this compares\n",
    "- some items will surely be out of catalogue in Nov 2015 and others will have increasing sales (old models vs. new models of e.g Playstations)\n",
    "- should closed shops be considered? (shops ids: )\n",
    "- should shops out of test be considered in training?\n",
    "- should products that are not sold anymore be considered in training?\n",
    "- Should I include negative revenues in the training? Or should I better cancel the sales out and only model/train net sales? I guess returns are rather random so would be good to cancel out\n",
    "- looking at the revenue spikes per shops definetely groups of prices needed (mass product / b2b contracts / ...)\n",
    "- correlation between targeted month and product categories or price/categories will be interesting\n",
    "\n",
    "* Check seasonalization in data. Forecast is for November. Maybe seasonalization works different per shop? Or per item? + what is the overall trajectory (probably over time linearly increasing sales but, around this, seasonalization e.g. lower in november (but compared to ever increasing base) due to upcoming christmas business.\n",
    "* What do I loose when I aggregate train data to months? Is there a daily / weekly pattern that is relevant to our monthly sales predictions? Maybe number of weekends in November? # of working days!\n",
    "\n",
    "* Categorize price into categories. Maybe some shops have larger presence in B2B deals\n",
    "* Does test price distribution look similar? Very small number of very large prices?\n",
    "\n",
    "- Is it true that the train data does not show all data? That random rows (30% or so) are missing? Maybe it is an idea to construct these rows and fill these NaN values with something meaningul? A moving average or something? These values for train could be learned through a model to then feed a complete dataset into the final algorithm... (easily written - already scared thinking of implementing it :-) )\n",
    "\n",
    "-----------------------------------------------------------------------------------\n",
    "For model building part\n",
    "- setup a test and validation set from the train_sales set\n",
    "- shuffle rows in training as they are ordered\n",
    "- Validate with a same month in the year (to ensure same bank holidays etc.)\n",
    "- we need to check item distribution in test and match with validation set\n",
    "- the problem is a time series one. I need to forecast the next month of specific shops and have the past data for these shops\n",
    "    - LSTM problem, isnt it?\n",
    "    - or linear model\n",
    "    - NN? (how would this work? What would it be / model?\n",
    "- Try one model where rows / items with high prices/revenues are deleted / capped\n",
    "------------------------------------------------------------------------------------\n",
    "Done:\n",
    "* split date\n",
    "* put weekdays into data\n",
    "* put test and train together (if same columns) (doesnt apply here)\n",
    "* plot revenue over time per shop\n",
    "* make first steps of analysis (NaNs)\n",
    "* analyze for ordinal, categorical values\n",
    "* Take meta-categories as features - problem with solution now is that if there is no meta-category it takes same value as category\n"
   ]
  },
  {
   "cell_type": "markdown",
   "metadata": {
    "_uuid": "ea07ea29e0018a1e92832f53fd3f5bdfa5c9fba4"
   },
   "source": [
    "Further notes:\n",
    "- new_in_test_items: list of items that are new in the test-set but havent been in train\n",
    "- shop_life: Dataframe with columns: shop_id, opening month, closing month"
   ]
  },
  {
   "cell_type": "code",
   "execution_count": null,
   "metadata": {
    "_uuid": "fbdd6194ee60a02d6ed8bfe98b58c4a5ee396486"
   },
   "outputs": [],
   "source": [
    "sample_submission.head(100)\n",
    "# Do I have to predict only the amount, not the revenue / price???\n",
    "# Indeed \"We are asking you to predict total sales for every product and store in the next month.\"\n",
    "# So price information is helpful only as a feature"
   ]
  },
  {
   "cell_type": "code",
   "execution_count": null,
   "metadata": {
    "_uuid": "a05e74ed9dcd5033aa4e7bf61caec24927802e3f"
   },
   "outputs": [],
   "source": [
    "test.head()"
   ]
  },
  {
   "cell_type": "code",
   "execution_count": null,
   "metadata": {
    "_uuid": "74d3fcad1bccedd7baaf97776d38f00024e8c79b"
   },
   "outputs": [],
   "source": [
    "# submission.to_csv('submission.csv',index=False)\n",
    "# Very first submission resulted in a score of 1,8 something - an extremely bad score place 863 of 950\n",
    "# I had the sum of items per month completely wrong"
   ]
  },
  {
   "cell_type": "markdown",
   "metadata": {
    "_uuid": "45db8070a727d61dbefd72b6e7d81a651e76c00c"
   },
   "source": [
    "Ok in week 2 of the course it was said that score should be 1,16777\n",
    "\n",
    "\"A good exercise is to reproduce previous_value_benchmark. As the name suggest - in this benchmark for the each shop/item pair our predictions are just monthly sales from the previous month, i.e. October 2015.\n",
    "\n",
    "The most important step at reproducing this score is correctly aggregating daily data and constructing monthly sales data frame. You need to get lagged values, fill NaNs with zeros and clip the values into [0,20] range. If you do it correctly, you'll get precisely 1.16777 on the public leaderboard.\n",
    "\n",
    "Generating features like this is a necessary basis for more complex models. Also, if you decide to fit some model, don't forget to clip the target into [0,20] range, it makes a big difference.\""
   ]
  },
  {
   "cell_type": "code",
   "execution_count": null,
   "metadata": {
    "_uuid": "2a99f0355bd6a6e571b1a91a44b0ed79ca973c71"
   },
   "outputs": [],
   "source": [
    "interim= sales_train[sales_train[\"date_block_num\"]==33].groupby([\"shop_id\", \"item_id\"],as_index=False).sum()[[\"shop_id\",\"item_id\",\"item_cnt_day\"]]\n",
    "interim[\"item_cnt_day\"].clip(0,20,inplace=True)\n",
    "interim"
   ]
  },
  {
   "cell_type": "code",
   "execution_count": null,
   "metadata": {
    "_uuid": "ee185de2f9991f183ad9bdbea61d809a3c88f382"
   },
   "outputs": [],
   "source": [
    "# the item_cnt_month are not properly entered into the grid\n",
    "interim2=pd.merge(test, interim, how=\"left\", left_on=[\"shop_id\",\"item_id\"], right_on = [\"shop_id\",\"item_id\"])\n",
    "interim2.info()\n",
    "interim2=interim2[[\"ID\",\"item_cnt_day\"]]\n",
    "interim2.columns=[\"ID\",\"item_cnt_month\"]\n",
    "interim2.fillna(0,inplace=True)\n",
    "interim2"
   ]
  },
  {
   "cell_type": "code",
   "execution_count": null,
   "metadata": {
    "_uuid": "62cc25d5e8b0bfa5758efa9dcc11fa5b11f12fd0"
   },
   "outputs": [],
   "source": [
    "interim2.to_csv('submission2.csv',index=False)\n",
    "# \"Your submission scored 16.05675\" ? -> Forgot to clip values\n",
    "# 1.96214: Still worse than before and lower than mentioned!? -> I had the summing up completely wrong\n",
    "\n",
    "# v2: Yes: 1.02172, place 376"
   ]
  },
  {
   "cell_type": "code",
   "execution_count": null,
   "metadata": {
    "_uuid": "84cfd0207e32312d6ef6423b20e3690260b10f6b"
   },
   "outputs": [],
   "source": [
    "#Let's try November values from last year\n",
    "interim= sales_train[sales_train[\"date_block_num\"]==22].groupby([\"shop_id\", \"item_id\"],as_index=False).sum()[[\"shop_id\",\"item_id\",\"item_cnt_day\"]]\n",
    "interim[\"item_cnt_day\"].clip(0,20,inplace=True)\n",
    "interim2=pd.merge(test, interim, how=\"left\", left_on=[\"shop_id\",\"item_id\"], right_on = [\"shop_id\",\"item_id\"])\n",
    "interim2=interim2[[\"ID\",\"item_cnt_day\"]]\n",
    "interim2.columns=[\"ID\",\"item_cnt_month\"]\n",
    "interim2.fillna(0,inplace=True)\n",
    "interim2.to_csv('submission3.csv',index=False)\n",
    "\n",
    "# Interesting: 1.60233: Much worse. So October-November seasonal effect smaller than November-November between 2 years"
   ]
  },
  {
   "cell_type": "code",
   "execution_count": null,
   "metadata": {
    "_uuid": "fe7c6cfdb4734ecffac78e62bca01918d571d0c5"
   },
   "outputs": [],
   "source": [
    "# Before starting with more complicated methods lets model something meaningful for items that are sold for the first time\n",
    "# And lets check if there werer items in the data sold in September, but not in October, but then in November again\n",
    "\n",
    "# Data that was for the first time in test:\n",
    "new_in_test_items2\n",
    "print(test[test.item_id.isin(new_in_test_items2)])\n",
    "# No further information on the items. Can categories be learned from ids? At the example of 5320\n",
    "sales_train[sales_train.item_id.isin(range(5310,5330))].groupby(\"item_id\").max()\n",
    "# Not really.\n",
    "# One more example 3405-3408\n",
    "sales_train[sales_train.item_id.isin(range(3400,3415))].groupby(\"item_id\").max()\n",
    "# Here the category seems to be Igry PC. But prices and counts vary very much\n",
    "\n",
    "# Idea could be:\n",
    "# - if category before and after the ID is the same use the average of this category\n",
    "# - if they do not match take some average (eg of both categories or of all categories)"
   ]
  },
  {
   "cell_type": "code",
   "execution_count": null,
   "metadata": {
    "_uuid": "e181328f219f2e83aca533529ce86746ed170c06"
   },
   "outputs": [],
   "source": [
    "# Now for the next idea: items that were sold in september but not october\n",
    "september = set(sales_train[sales_train.date_block_num==32].item_id)\n",
    "october = set(sales_train[sales_train.date_block_num==33].item_id)\n",
    "november = set(test.item_id)\n",
    "sep_but_not_oct=[x for x in november if x not in october and x not in new_in_test_items2]\n",
    "sep_but_not_oct\n",
    "print(len(september))\n",
    "print(len(october))\n",
    "print(len(november))\n",
    "print(len(sep_but_not_oct))\n",
    "# 746 items were we could use the september figures"
   ]
  },
  {
   "cell_type": "code",
   "execution_count": null,
   "metadata": {
    "_uuid": "57336bb3063379a8a1e543b0066ffefccaaca61f"
   },
   "outputs": [],
   "source": [
    "interim= sales_train[sales_train[\"date_block_num\"]==33].groupby([\"shop_id\", \"item_id\"],as_index=False).sum()[[\"shop_id\",\"item_id\",\"item_cnt_day\"]]\n",
    "interim[\"item_cnt_day\"].clip(0,20,inplace=True)\n",
    "\n",
    "interim2=sales_train[sales_train[\"date_block_num\"]==32].groupby([\"shop_id\", \"item_id\"],as_index=False).sum()[[\"shop_id\",\"item_id\",\"item_cnt_day\"]]\n",
    "interim2=interim2[interim2.item_id.isin(sep_but_not_oct)]\n",
    "interim2[\"item_cnt_day\"].clip(0,20,inplace=True)\n",
    "\n",
    "interim3=pd.merge(test, interim, how=\"left\", left_on=[\"shop_id\",\"item_id\"], right_on = [\"shop_id\",\"item_id\"])\n",
    "interim3=pd.merge(interim3, interim2, how=\"left\", left_on=[\"shop_id\",\"item_id\"], right_on = [\"shop_id\",\"item_id\"])\n",
    "\n",
    "interim3.fillna(0,inplace=True)\n",
    "\n",
    "interim3[\"item_cnt_month\"]=interim3[[\"item_cnt_day_x\",\"item_cnt_day_y\"]].max(axis=1) \n",
    "\n",
    "print(interim3)\n",
    "interim4=interim3[[\"ID\",\"item_cnt_month\"]]\n",
    "print(interim4)\n",
    "interim4.to_csv('submission4.csv',index=False)\n",
    "\n",
    "# Scored worse: 1.16602 - but I am not sure that the operations above did what I want them to do. \n",
    "# Have to check more closely in next working session"
   ]
  },
  {
   "cell_type": "code",
   "execution_count": null,
   "metadata": {
    "_uuid": "1423ef9397963a01ca464fe0cf97c23f7c16c028"
   },
   "outputs": [],
   "source": [
    "sales_train.groupby([\"item_id\",\"shop_id\",\"date_block_num\"],as_index=False).sum()[[\"item_id\",\"shop_id\",\"date_block_num\",\"item_cnt_day\"]]\n",
    "\n",
    "# Need to figure out how to only include the latest date_block_num per item per shop in table as lookup\n",
    "# value for test"
   ]
  },
  {
   "cell_type": "code",
   "execution_count": null,
   "metadata": {
    "_uuid": "81b5e5c3b53918cb23f47a54c226260576abf855",
    "scrolled": true
   },
   "outputs": [],
   "source": [
    "abc=sales_train.groupby([\"item_id\",\"shop_id\",\"date_block_num\"],as_index=False).sum()[[\"item_id\",\"shop_id\",\"date_block_num\",\"item_cnt_day\"]].head(10)\n",
    "abc"
   ]
  },
  {
   "cell_type": "code",
   "execution_count": null,
   "metadata": {
    "_uuid": "45e7b0100b66e4286da5ce66f3ca6c5b85133ecd"
   },
   "outputs": [],
   "source": [
    "# Now find out how to get only the rows where item_id and shop_id are the same and date_block_num is max\n",
    "# I.e. I want to have a table with the most recent item_cnt of a specific item per shop as lookup table to fill this\n",
    "# most recent item_cnt into the test.\n",
    "abc.groupby([\"item_id\",\"shop_id\"]).last()\n",
    "#YES!"
   ]
  },
  {
   "cell_type": "code",
   "execution_count": null,
   "metadata": {
    "_uuid": "c8930de1c6fb49e3122f750038409e7db8492f5b",
    "scrolled": true
   },
   "outputs": [],
   "source": [
    "interim5=sales_train.groupby([\"item_id\",\"shop_id\",\"date_block_num\"],as_index=False).sum()[[\"item_id\",\"shop_id\",\"date_block_num\",\"item_cnt_day\"]].groupby([\"item_id\",\"shop_id\"],as_index=False).last()\n",
    "interim5=interim5[[\"item_id\",\"shop_id\",\"item_cnt_day\"]]\n",
    "interim5"
   ]
  },
  {
   "cell_type": "code",
   "execution_count": null,
   "metadata": {
    "_uuid": "66cdba4ee41e4489a0b8018f8524c8d8ee609358"
   },
   "outputs": [],
   "source": [
    "interim5[\"item_cnt_day\"].clip(0,20,inplace=True)\n",
    "interim6=pd.merge(test, interim5, how=\"left\", left_on=[\"shop_id\",\"item_id\"], right_on = [\"shop_id\",\"item_id\"])\n",
    "interim6=interim6[[\"ID\",\"item_cnt_day\"]]\n",
    "interim6.columns=[\"ID\",\"item_cnt_month\"]\n",
    "interim6.fillna(0,inplace=True)\n",
    "interim6.to_csv('submission5.csv',index=False)\n",
    "interim6\n",
    "# scored 1.38739, better than september and october together but worse than october alone. Probably some items way to old\n",
    "# lets restrict age"
   ]
  },
  {
   "cell_type": "code",
   "execution_count": null,
   "metadata": {
    "_uuid": "654d43e031bcce7e70f1d52431ec2a1d8a032969"
   },
   "outputs": [],
   "source": [
    "interim=sales_train.groupby([\"item_id\",\"shop_id\",\"date_block_num\"],as_index=False).sum()[[\"item_id\",\"shop_id\",\"date_block_num\",\"item_cnt_day\"]].groupby([\"item_id\",\"shop_id\"],as_index=False).last()\n",
    "interim=interim[interim[\"date_block_num\"]<25]\n",
    "interim=interim[[\"item_id\",\"shop_id\",\"item_cnt_day\"]]\n",
    "interim[\"item_cnt_day\"].clip(0,20,inplace=True)\n",
    "interim7=pd.merge(test, interim, how=\"left\", left_on=[\"shop_id\",\"item_id\"], right_on = [\"shop_id\",\"item_id\"])\n",
    "interim7=interim7[[\"ID\",\"item_cnt_day\"]]\n",
    "interim7.columns=[\"ID\",\"item_cnt_month\"]\n",
    "interim7.fillna(0,inplace=True)\n",
    "interim7.to_csv('submission6.csv',index=False)\n",
    "interim7\n",
    "# Only slightly better: 1.32017\n",
    "# So this is a dead end. Lets start with the modelling"
   ]
  },
  {
   "cell_type": "markdown",
   "metadata": {
    "_uuid": "d6e5f0c9c237486025a3de4e8e1ec69e5d331454"
   },
   "source": [
    "* Ok. I have now a bit of understanding of the data.\n",
    "\n",
    "Let's start with step 3\n",
    "\n",
    "3. Prepare Data\n",
    "a) Data Cleaning\n",
    "b) Feature Selection\n",
    "c) Data Transforms (Normalize,...)"
   ]
  },
  {
   "cell_type": "markdown",
   "metadata": {
    "_uuid": "f8355e4ff1137bba6f430113087b0e0d9609e0ab"
   },
   "source": [
    "The Kernel seemd to have reached some capacity bottleneck. I'll continue the modelling [here](https://www.kaggle.com/dennise/coursera-competition-modelling?scriptVersionId=7573203):\n"
   ]
  },
  {
   "cell_type": "markdown",
   "metadata": {
    "_uuid": "8837132618d4033b80b66d15846cd5be8e21d101"
   },
   "source": [
    "Exporting the data to upload in this second kernel:"
   ]
  },
  {
   "cell_type": "code",
   "execution_count": null,
   "metadata": {
    "_uuid": "4f2fd9b6cd57925877329871cdf72848e7861185"
   },
   "outputs": [],
   "source": [
    "sales_train.to_csv('sales_train.csv',index=False)"
   ]
  },
  {
   "cell_type": "markdown",
   "metadata": {
    "_uuid": "925326e3f321c2e716d50311f7b937990456a6c7"
   },
   "source": [
    "It took me a while to figure out how to get such an output file from one kernel into another kernel. Here is how it goes:\n",
    "- Go to your new Kernel\n",
    "- Edit it\n",
    "- Check on the right-hand side: There is an \"Add Data\" button where you can link to your previous work\n",
    "\n",
    "![](https://i.imgur.com/ClP9kLb.png)\n",
    "\n",
    "And pay attention. In this second Kernel there are now subfolders in the \"input\" folder:\n",
    "![](https://i.imgur.com/rMZ3Kb8.png)"
   ]
  }
 ],
 "metadata": {
  "kernelspec": {
   "display_name": "Python 3",
   "language": "python",
   "name": "python3"
  },
  "language_info": {
   "codemirror_mode": {
    "name": "ipython",
    "version": 3
   },
   "file_extension": ".py",
   "mimetype": "text/x-python",
   "name": "python",
   "nbconvert_exporter": "python",
   "pygments_lexer": "ipython3",
   "version": "3.6.7"
  }
 },
 "nbformat": 4,
 "nbformat_minor": 1
}
