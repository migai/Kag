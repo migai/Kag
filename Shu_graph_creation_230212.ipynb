{
 "cells": [
  {
   "cell_type": "code",
   "execution_count": 1,
   "metadata": {},
   "outputs": [
    {
     "name": "stdout",
     "output_type": "stream",
     "text": [
      "Start date and time = 230212_23h08m\n"
     ]
    }
   ],
   "source": [
    "# Program description and package imports\n",
    "\n",
    "\"\"\"\n",
    "There are 1,367 vertices in the dataset.\n",
    "There are 93,5028 possible connections between 1,367 vertices, of which 93,1289 have edges in our dataset, and the remainder are not connected.\n",
    "The total number of edges in these 931289 connections is 12,227,223\n",
    "There are 22,967 keywords in total -- 10,106 keywords have weight >=1; 12,861 have weight = 0\n",
    "\n",
    "df_selected_kw_graph2['source'] = df_selected_kw_graph2['source'].apply(lambda x: 'v' + str(x))\n",
    "df_selected_kw_graph2['target'] = df_selected_kw_graph2['target'].apply(lambda x: 'v' + str(x))\n",
    "df_selected_kw_graph2.columns = ['from', 'to', 'kw_text', 'edge_ID', 'weight']\n",
    "\n",
    "Strategy: \n",
    "1) Perform as much pre-computation on data as possible, and store in ftr files for fast loading without delays in processing.  This includes two key dataframes:\n",
    "    a) df_graph:  a dataframe with columns ['from', 'to', 'edge_ID']  (stored in file: BASE_DIRECTORY / \"Entire_Graph_exploded_merged_df.ftr\")\n",
    "        Explode graph so there is one row per edge, and create a hashable string key for each vertex (\"from\", \"to\").  Merge on kw_text to get the correct edge_ID for each row.  Delete columns for kw_text and edge weight to minimize DataFrame size. (This can be retrieved from the original DataFrame file BASE_DIRECTORY / \"Entire_Graph_df_exploded.ftr\" if needed.)  The lightweight DataFrame info/head looks as follows:\n",
    "\n",
    "        Int64Index: 12227223 entries, 0 to 12227222\n",
    "        Data columns (total 3 columns):\n",
    "        #   Column   Dtype \n",
    "        ---  ------   ----- \n",
    "        0   from     string\n",
    "        1   to       string\n",
    "        2   edge_ID  string\n",
    "        dtypes: string(3)\n",
    "        memory usage: 373.1 MB\n",
    "\n",
    "           from  to  edge_ID\n",
    "        0   V0   V1  E00130\n",
    "        1   V0   V3  E00130\n",
    "        2   V0   V6  E00130\n",
    "        3   V0   V9  E00130\n",
    "        4   V0  V10  E00130\n",
    "\n",
    "    b) df_kw_weights:  a dataframe with columns ['edge_ID', 'weight', 'kw_text']  (stored in file: BASE_DIRECTORY / \"All_Keyword_Weights.ftr\")\n",
    "        Remove keywords with weight = 0, and sort by weight descending, assign a hashable string key to each keyword (e.g. \"E00000\", \"E00001\", etc.)\n",
    "        Keep the original weights in the DataFrame, as they will be used to help select a subset of keywords to use in the final graph.  The DataFrame info/head looks as follows:\n",
    "\n",
    "        Int64Index: 10106 entries, 0 to 10105\n",
    "        Data columns (total 3 columns):\n",
    "        #   Column   Non-Null Count  Dtype \n",
    "        ---  ------   --------------  ----- \n",
    "        0   edge_ID  10106 non-null  string\n",
    "        1   weight   10106 non-null  int64 \n",
    "        2   kw_text  10106 non-null  string\n",
    "        dtypes: int64(1), string(2)\n",
    "        memory usage: 315.8 KB\n",
    "\n",
    "           edge_ID weight       kw_text\n",
    "        0  E00000  9892451      事故\n",
    "        1  E00001  9800064      发生\n",
    "        2  E00002  8126317      现场\n",
    "        3  E00003  5963363      调查\n",
    "        4  E00004  5889188      目前\n",
    "\n",
    "2) Select a certain number of keywords to use (user enters number N_kw = 500 or whatever), with weighted-randomly-chosen values according to a Gamma distribution with shape parameter alpha = 1.5 and scale parameter beta = 1.0 -- this helps ensure that we will choose some keywords with low weight, but not too many.\n",
    "    -- Should probably save this in a file\n",
    "    \n",
    "3) Merge the two DataFrames from step 1a and 1b above, to get a DataFrame with columns ['from', 'to', 'edge_ID', 'weight', 'kw_text'] and eliminate the weight and kw_text columns to keep memory usage low.  The merge serves to delete rows in the 1a DataFrame that do not have a corresponding edge_ID in the selected keyword list.\n",
    "\n",
    "4) Next, (the most time-consuming portion of the process) ... recalculate the edge weights based on configuration of the graph with the select keywords.  This can take about 4 minutes for 500 keywords and the 1367 vertices (or perhaps 1-10 million edges) on my laptop (Lenovo Thinkpad with Intel i7-9750H CPU @ 2.60GHz, 48GB RAM, Windows 11, using pandas 1.5 and python 3.10).  After recomputing the edge weights, merge with the \"exploded\" DataFrame and add an additional prefix to the edge_ID to ensure every edge in the Graph is unique (even though they may share the same weight and keyword text).  The DataFrame info/head looks as follows:\n",
    "\n",
    "    Int64Index: 11568892 entries, 0 to 11568891\n",
    "    Data columns (total 4 columns):\n",
    "    #   Column   Dtype \n",
    "    ---  ------   ----- \n",
    "    0   from     string\n",
    "    1   to       string\n",
    "    2   edge_ID  string\n",
    "    3   weight   int64 \n",
    "    dtypes: int64(1), string(3)\n",
    "    memory usage: 441.3 MB\n",
    "\n",
    "    from   to  edge_ID  weight\n",
    "    0   V0   V1  0E00130  199859\n",
    "    1   V0   V3  1E00130  199859\n",
    "    2   V0   V6  2E00130  199859\n",
    "    3   V0   V9  3E00130  199859\n",
    "    4   V0  V10  4E00130  199859\n",
    "\n",
    "\n",
    "Graph Creation / Clustering / Modularity Compute \n",
    "5.\tCreate a Weighted Multi-Graph from the DataFrame in step 4 above using iGraph (from DataFrame)... this is the 2nd-most time-consuming step, taking anywhere from 20 seconds to 90 seconds.\n",
    "6.  (Optional, I think... but it doesn't take more than about 10 seconds)... Simplify the graph by compressing multi-edges into a single edge with weight= sum of original edge weights between the same two vertices.  (This is done by the iGraph function simplify() )....  NOTE: I've tried the community creation algorithms on the original graph, and on the simplified graph, and the results are the same, so I think this step may not be necessary.  I am still investigating this, as I am not sure which is a faster way to do the computations (they are both relatively fast, but I don't like the results I'm getting of only 2 or 3 or 4 communities.... I suspect that with tuning of some parameters, I will start to get more communities, and a higher Q, but it will reveal one of the computation methods to be faster than the other.)\n",
    "7.\tRun an algorithm to divide this graph into communities (several are available in iGraph, e.g. walktrap, label_propagation, etc.)\n",
    "8.\tCompute the \"weighted\" modularity\n",
    "\n",
    "Modularity Optimization\n",
    "9.\tPossibly re-run the algorithm in #2 with a different random seed, or with a different algorithm, and find an estimate of how stable the community clustering is.  (look at variation in Q, for example)... so far, I find the best of the algorithms all seem to give the same Q, but I am only getting a few communities.  I am not sure why the clustering algorithms are not creating more communities, but I am still investigating this.\n",
    "10.\tWithin a community, investigate which keywords and combinations of keywords have the most significance, using statistical techniques or ML feature importance\n",
    "11.\tKeep only the keywords from step 10 that show high importance, and loop back to step 2… can add some additional keywords before running the computations again, or can run with only the significant keywords, or can choose an entirely new set of keywords to evaluate and eventually combine with a stored list of keywords with high importance as found in step 10 through each loop.  One idea would be to select, for example, 800 keywords with the Gamma function, and then select 600 of them to create the graph (keep the remaining 200 keywords in reserve).  After computing Q with the 600 original keywords, replace some or add to with the reserve 200 keywords selected originally.\n",
    "(I believe this is something that could be done rather quickly with the Linux/MacOS package \"graph-tool\", which allows you to create a graph and set a boolean for each edge to turn on or off during a run without recreating the entire graph.  I'm not convinced this will save us a lot of time, but it may be worth looking into.)\n",
    "12. Continue such a loop until modularity is maximized (or shows very little change).  Make note of the optimal keyword list.\n",
    "\"\"\"\n",
    "\n",
    "from IPython.display import clear_output, HTML, SVG\n",
    "import pandas as pd\n",
    "import numpy as np\n",
    "from scipy.stats import gamma\n",
    "import matplotlib.pyplot as plt\n",
    "from pathlib import Path\n",
    "import pyarrow  # to import pandas df with str(utf-8) column\n",
    "import networkx as nx  # may eventually replace with a faster, parallel processing package (or run on GPU)\n",
    "import networkx.algorithms.community as nx_comm\n",
    "from pyvis import network as pvnet\n",
    "import pygraphviz as pgv\n",
    "import igraph as ig\n",
    "from igraph import Graph\n",
    "from datetime import datetime\n",
    "import pytz  # time zone\n",
    "import time\n",
    "from copy import deepcopy\n",
    "from typing import Union, List, Dict, Tuple, Optional, Any\n",
    "\n",
    "# Define global constants\n",
    "def Get_DateTimeString(tz='America/New_York'):  # for Shenyang, use \"PRC\" instead of \"America/New_York\"\n",
    "    return datetime.now(pytz.timezone(tz)).strftime(\"%y%m%d_%Hh%Mm\")\n",
    "\n",
    "# datetime object containing current date and time\n",
    "program_start_time = Get_DateTimeString()  # for Shenyang, use \"PRC\" instead of \"America/New_York\"\n",
    "print(\"Start date and time =\", program_start_time)"
   ]
  },
  {
   "cell_type": "markdown",
   "metadata": {},
   "source": [
    "### Code for full graph follows"
   ]
  },
  {
   "cell_type": "code",
   "execution_count": 2,
   "metadata": {},
   "outputs": [],
   "source": [
    "# Some global constants\n",
    "N_KEYWORDS = 400  # Initial number of keywords to use to create the graph (with weighted sampling if desired... see below)\n",
    "BASE_DIRECTORY = Path(\"C:\\\\Users\\\\mgaid\\\\Documents\\\\__China Translations\\\\Modularity_Code\\\\Latest\")\n",
    "\n",
    "# df_exploded_graph_filepath = BASE_DIRECTORY / \"Entire_Graph_df_exploded.ftr\"  # 12_227_223 entries of vertex pairs connected by edges with weight > 1\n",
    "DF_KW_FILEPATH = BASE_DIRECTORY / \"All_Keyword_Weights.ftr\"  # 22967 total -- kw 10106 has weight =1, all kw > 10106 have weight=0\n",
    "DF_EXPLODED_MERGED_GRAPH_FILEPATH = BASE_DIRECTORY / \"Entire_Graph_exploded_merged_df.ftr\"  # 12_227_223 entries of vertex pairs connected by edges with weight > 1"
   ]
  },
  {
   "cell_type": "code",
   "execution_count": 3,
   "metadata": {},
   "outputs": [
    {
     "name": "stdout",
     "output_type": "stream",
     "text": [
      "<class 'pandas.core.frame.DataFrame'>\n",
      "Int64Index: 10106 entries, 0 to 10105\n",
      "Data columns (total 3 columns):\n",
      " #   Column   Non-Null Count  Dtype \n",
      "---  ------   --------------  ----- \n",
      " 0   edge_ID  10106 non-null  string\n",
      " 1   weight   10106 non-null  int64 \n",
      " 2   kw_text  10106 non-null  string\n",
      "dtypes: int64(1), string(2)\n",
      "memory usage: 315.8 KB\n",
      "None \n",
      "\n",
      "   edge_ID   weight kw_text\n",
      "0  E00000  9892451      事故\n",
      "1  E00001  9800064      发生\n",
      "2  E00002  8126317      现场\n",
      "3  E00003  5963363      调查\n",
      "4  E00004  5889188      目前\n"
     ]
    }
   ],
   "source": [
    "# Read in the keyword data to a DataFrame and inspect it: (0.1 sec)\n",
    "df_kw = pd.read_feather(DF_KW_FILEPATH)\n",
    "print(df_kw.info(), \"\\n\\n\", df_kw.head())"
   ]
  },
  {
   "cell_type": "code",
   "execution_count": 4,
   "metadata": {},
   "outputs": [
    {
     "name": "stdout",
     "output_type": "stream",
     "text": [
      "<class 'pandas.core.frame.DataFrame'>\n",
      "Int64Index: 12227223 entries, 0 to 12227222\n",
      "Data columns (total 3 columns):\n",
      " #   Column   Dtype \n",
      "---  ------   ----- \n",
      " 0   from     string\n",
      " 1   to       string\n",
      " 2   edge_ID  string\n",
      "dtypes: string(3)\n",
      "memory usage: 373.1 MB\n",
      "None \n",
      "\n",
      "   from   to edge_ID\n",
      "0   V0   V1  E00130\n",
      "1   V0   V3  E00130\n",
      "2   V0   V6  E00130\n",
      "3   V0   V9  E00130\n",
      "4   V0  V10  E00130\n"
     ]
    }
   ],
   "source": [
    "# Read in the graph info to a DataFrame and inspect it ( 9.0 sec )\n",
    "df_graph = pd.read_feather(DF_EXPLODED_MERGED_GRAPH_FILEPATH)\n",
    "print(df_graph.info(), \"\\n\\n\", df_graph.head())"
   ]
  },
  {
   "attachments": {},
   "cell_type": "markdown",
   "metadata": {},
   "source": [
    "## Recompute Weights of Keywords in the Graph to Make Sure Algorithm is Correct (with all keywords, all nodes)"
   ]
  },
  {
   "cell_type": "code",
   "execution_count": 5,
   "metadata": {},
   "outputs": [
    {
     "data": {
      "image/png": "[encoded data removed]",
      "text/plain": [
       "<Figure size 640x480 with 1 Axes>"
      ]
     },
     "metadata": {},
     "output_type": "display_data"
    }
   ],
   "source": [
    "# Choose a subset of keywords to use... sample randomly with weights set by a gamma function as below\n",
    "#    Don't simply use the KW weights as sample weights, as then you will almost never sample the lower-weight keywords\n",
    "x = np.linspace(0, len(df_kw)-1, len(df_kw))\n",
    "a, loc, scale = 2, -1000, 1.5e3  # parameters to define a gamma function for sampling probability of keywords\n",
    "rv = gamma(a,loc,scale)\n",
    "y = rv.pdf(x)\n",
    "y_norm = y / y.max()\n",
    "\n",
    "fig, ax = plt.subplots(1, 1)\n",
    "ax.plot(x, y_norm, 'blue', lw=2, label=f'gamma distribution with max=1\\na={a}, loc={loc}, scale={scale}')\n",
    "ax.legend(loc='best', frameon=False)\n",
    "ax.grid(visible=True)\n",
    "plt.show()"
   ]
  },
  {
   "cell_type": "code",
   "execution_count": 6,
   "metadata": {},
   "outputs": [
    {
     "name": "stdout",
     "output_type": "stream",
     "text": [
      "<class 'pandas.core.frame.DataFrame'>\n",
      "Int64Index: 400 entries, 8 to 9776\n",
      "Data columns (total 3 columns):\n",
      " #   Column   Non-Null Count  Dtype \n",
      "---  ------   --------------  ----- \n",
      " 0   edge_ID  400 non-null    string\n",
      " 1   weight   400 non-null    int64 \n",
      " 2   kw_text  400 non-null    string\n",
      "dtypes: int64(1), string(2)\n",
      "memory usage: 12.5 KB\n",
      "None \n",
      "\n",
      "    edge_ID   weight kw_text\n",
      "8   E00008  4986442      工人\n",
      "18  E00018  2978158      救援\n",
      "19  E00019  2525647      工地\n",
      "20  E00020  2477672      了解\n",
      "27  E00027  1941442      当时\n"
     ]
    }
   ],
   "source": [
    "# Sample the kw dataframe:\n",
    "df_selected_kw = df_kw.sample(n=N_KEYWORDS, weights=y, replace=False, random_state=43)  # ignore_index=True\n",
    "df_selected_kw.sort_index(inplace=True)\n",
    "print(df_selected_kw.info(), \"\\n\\n\", df_selected_kw.head())\n",
    "\n",
    "# Alternate option: ignore the above and just take the first N_KEYWORDS keywords\n",
    "# df_selected_kw = df_kw.iloc[:N_KEYWORDS].copy(deep=True)\n",
    "# print(df_selected_kw.info(), \"\\n\\n\", df_selected_kw.head())"
   ]
  },
  {
   "cell_type": "code",
   "execution_count": 7,
   "metadata": {},
   "outputs": [
    {
     "data": {
      "image/png": "[encoded data removed]",
      "text/plain": [
       "<Figure size 640x480 with 1 Axes>"
      ]
     },
     "metadata": {},
     "output_type": "display_data"
    }
   ],
   "source": [
    "selected_weights = df_selected_kw.weight.to_numpy()\n",
    "fig, ax = plt.subplots(1, 1)\n",
    "ax.plot(np.linspace(0, N_KEYWORDS-1, N_KEYWORDS), selected_weights, 'blue', ms=4, label=f'Selected Keyword Weights')\n",
    "ax.legend(loc='best', frameon=False)\n",
    "ax.grid(visible=True)\n",
    "ax.semilogy()\n",
    "plt.show()"
   ]
  },
  {
   "cell_type": "code",
   "execution_count": 8,
   "metadata": {},
   "outputs": [
    {
     "data": {
      "image/png": "[encoded data removed]",
      "text/plain": [
       "<Figure size 640x480 with 1 Axes>"
      ]
     },
     "metadata": {},
     "output_type": "display_data"
    }
   ],
   "source": [
    "selected_kw_numbers = df_selected_kw.index\n",
    "fig, ax = plt.subplots(1, 1)\n",
    "ax.plot(np.linspace(0, N_KEYWORDS-1, N_KEYWORDS), selected_kw_numbers, 'blue', ms=4, label=f'Selected Keyword Numbers')\n",
    "ax.legend(loc='best', frameon=False)\n",
    "ax.grid(visible=True)\n",
    "# ax.semilogy()\n",
    "plt.show()"
   ]
  },
  {
   "cell_type": "code",
   "execution_count": 9,
   "metadata": {},
   "outputs": [
    {
     "name": "stdout",
     "output_type": "stream",
     "text": [
      "<class 'pandas.core.frame.DataFrame'>\n",
      "Int64Index: 1303896 entries, 0 to 1303895\n",
      "Data columns (total 5 columns):\n",
      " #   Column   Non-Null Count    Dtype \n",
      "---  ------   --------------    ----- \n",
      " 0   from     1303896 non-null  string\n",
      " 1   to       1303896 non-null  string\n",
      " 2   edge_ID  1303896 non-null  string\n",
      " 3   weight   1303896 non-null  int64 \n",
      " 4   kw_text  1303896 non-null  string\n",
      "dtypes: int64(1), string(4)\n",
      "memory usage: 59.7 MB\n",
      "None \n",
      "\n",
      "   from   to edge_ID   weight kw_text\n",
      "0   V0   V2  E00008  4986442      工人\n",
      "1   V0  V10  E00008  4986442      工人\n",
      "2   V0  V12  E00008  4986442      工人\n",
      "3   V0  V13  E00008  4986442      工人\n",
      "4   V0  V15  E00008  4986442      工人\n"
     ]
    }
   ],
   "source": [
    "# Now do a merge on the graph dataframe with the selected_kw dataframe, using key=edge_ID so we select only edges containing selected keywords\n",
    "df_selected_kw_graph = df_graph.merge(df_selected_kw, how='inner', on='edge_ID')  # --> < 7 sec for 650 keywords; 1_709_335 edges\n",
    "print(df_selected_kw_graph.info(), \"\\n\\n\", df_selected_kw_graph.head())"
   ]
  },
  {
   "cell_type": "code",
   "execution_count": 10,
   "metadata": {},
   "outputs": [
    {
     "name": "stdout",
     "output_type": "stream",
     "text": [
      "  edge_ID  weight\n",
      "0  E00008  745825\n",
      "1  E00018  403515\n",
      "2  E00019  405842\n",
      "3  E00020  379592\n",
      "4  E00027  298801\n"
     ]
    }
   ],
   "source": [
    "# Compute new weights for the graph --> 2.5 minutes for 650 keywords and 1.71 million edges (largest weight E00008 = 933_436... was previously 4_986_442)\n",
    "df1 = df_selected_kw_graph[['from','to','edge_ID']].groupby(['from','to'], as_index=True).agg({'edge_ID': ['count', 'unique']}).reset_index(drop=True)\n",
    "df1.columns = pd.Index(['weight','edge_ID'])   # df.columns.to_flat_index()\n",
    "df1 = df1.explode('edge_ID', ignore_index=True)\n",
    "df1.edge_ID = df1.edge_ID.astype(\"string\")\n",
    "df1 = df1.groupby('edge_ID', as_index=False).agg({'weight': 'sum'}) # .reset_index(drop=False)\n",
    "print(df1.head())"
   ]
  },
  {
   "cell_type": "code",
   "execution_count": 11,
   "metadata": {},
   "outputs": [
    {
     "name": "stdout",
     "output_type": "stream",
     "text": [
      "<class 'pandas.core.frame.DataFrame'>\n",
      "Int64Index: 1303896 entries, 0 to 1303895\n",
      "Data columns (total 4 columns):\n",
      " #   Column   Non-Null Count    Dtype \n",
      "---  ------   --------------    ----- \n",
      " 0   from     1303896 non-null  string\n",
      " 1   to       1303896 non-null  string\n",
      " 2   edge_ID  1303896 non-null  string\n",
      " 3   weight   1303896 non-null  int64 \n",
      "dtypes: int64(1), string(3)\n",
      "memory usage: 49.7 MB\n",
      "None \n",
      "\n",
      "   from   to edge_ID  weight\n",
      "0   V0   V2  E00008  745825\n",
      "1   V0  V10  E00008  745825\n",
      "2   V0  V12  E00008  745825\n",
      "3   V0  V13  E00008  745825\n",
      "4   V0  V15  E00008  745825\n"
     ]
    }
   ],
   "source": [
    "# Now do a merge on the graph dataframe with the selected_kw dataframe, using key=kw_text so we select only edges containing selected keywords\n",
    "df_reweighted_graph = df_selected_kw_graph[['from','to','edge_ID']].merge(df1, how='inner', on='edge_ID') # --> 1.3 sec for 650 keywords; 1_709_335 edges\n",
    "print(df_reweighted_graph.info(), \"\\n\\n\", df_reweighted_graph.head())"
   ]
  },
  {
   "cell_type": "code",
   "execution_count": 12,
   "metadata": {},
   "outputs": [
    {
     "name": "stdout",
     "output_type": "stream",
     "text": [
      "<class 'pandas.core.frame.DataFrame'>\n",
      "Int64Index: 1303896 entries, 0 to 1303895\n",
      "Data columns (total 4 columns):\n",
      " #   Column   Non-Null Count    Dtype \n",
      "---  ------   --------------    ----- \n",
      " 0   from     1303896 non-null  string\n",
      " 1   to       1303896 non-null  string\n",
      " 2   edge_ID  1303896 non-null  string\n",
      " 3   weight   1303896 non-null  int64 \n",
      "dtypes: int64(1), string(3)\n",
      "memory usage: 49.7 MB\n",
      "None \n",
      "\n",
      "   from   to  edge_ID  weight\n",
      "0   V0   V2  0E00008  745825\n",
      "1   V0  V10  1E00008  745825\n",
      "2   V0  V12  2E00008  745825\n",
      "3   V0  V13  3E00008  745825\n",
      "4   V0  V15  4E00008  745825\n"
     ]
    }
   ],
   "source": [
    "# rename edge_ID so it will be unique for every edge, but retain memory of where it came from\n",
    "df_reweighted_graph.edge_ID = df_reweighted_graph.index.astype(\"string\") + df_reweighted_graph.edge_ID # --> 1.8 sec for 650 keywords; 1_709_335 edges\n",
    "print(df_reweighted_graph.info(), \"\\n\\n\", df_reweighted_graph.head())"
   ]
  },
  {
   "attachments": {},
   "cell_type": "markdown",
   "metadata": {},
   "source": [
    "## Create the Graph in iGraph"
   ]
  },
  {
   "cell_type": "code",
   "execution_count": 13,
   "metadata": {},
   "outputs": [
    {
     "name": "stdout",
     "output_type": "stream",
     "text": [
      "[883, 835, 2183]\n"
     ]
    }
   ],
   "source": [
    "# Now create the graph with iGraph from pd.DataFrame; roughly 75sec for 12_227_117 edges, and 7 seconds for 1_709_335 edges\n",
    "Gi = Graph.DataFrame(df_reweighted_graph, directed=False, vertices=None, use_vids=False)\n",
    "# print(Gi.summary(verbosity=1))  #### THIS CRASHES VSCODE\n",
    "print(Gi.degree([0, 2, 13]))  # test = [883, 835, 2364] for reweighted 650 keyword graph"
   ]
  },
  {
   "cell_type": "code",
   "execution_count": 14,
   "metadata": {},
   "outputs": [
    {
     "name": "stdout",
     "output_type": "stream",
     "text": [
      "['name']\n",
      "['edge_ID', 'weight']\n"
     ]
    }
   ],
   "source": [
    "print(Gi.vertex_attributes())\n",
    "print(Gi.edge_attributes())"
   ]
  },
  {
   "cell_type": "code",
   "execution_count": 15,
   "metadata": {},
   "outputs": [],
   "source": [
    "# Write the graph to disk as a pickle file in case we screw something up below\n",
    "Gi.write(BASE_DIRECTORY / \"KW650_Multiedge_Weighted_Undirected_iGraph400gamma.pkl\", format=\"pickle\")  # 2.2 sec for 650 keywords; 1_709_335 edges, 45 MB file\n",
    "# Gi.write_edgelist(BASE_DIRECTORY / 'KW650_Multiedge_Weighted_Undirected_iGraph.edgelist') #, names=True, weights='weight', delimiter='\\t', encoding='utf-8', write_weights=True, format='edgelist', vertex_name_attr='name', edge_name_attr='edge_ID', edge_attr='weight')"
   ]
  },
  {
   "attachments": {},
   "cell_type": "markdown",
   "metadata": {},
   "source": [
    "## Divide Graph into Communities"
   ]
  },
  {
   "cell_type": "code",
   "execution_count": 16,
   "metadata": {},
   "outputs": [],
   "source": [
    "# Read graph as a pickle file from disk if no changes from previous run\n",
    "Gi = ig.read(BASE_DIRECTORY / \"KW650_Multiedge_Weighted_Undirected_iGraph400gamma.pkl\", format=\"pickle\")  # 1.5 sec for 650 keywords; 1_709_335 edges, 45 MB file"
   ]
  },
  {
   "cell_type": "code",
   "execution_count": 17,
   "metadata": {},
   "outputs": [
    {
     "data": {
      "text/plain": [
       "'IGRAPH UNW- 1358 1303896 -- \\n+ attr: name (v), edge_ID (e), weight (e)'"
      ]
     },
     "execution_count": 17,
     "metadata": {},
     "output_type": "execute_result"
    }
   ],
   "source": [
    "\"\"\"\n",
    "Summary representation of a graph.\n",
    "\n",
    "\n",
    "The summary representation includes a header line and the list of edges. The header line consists of IGRAPH, followed by a four-character long code, the number of vertices, the number of edges, two dashes (--) and the name of the graph (i.e. the contents of the name attribute, if any). For instance, a header line may look like this:\n",
    "\n",
    "    IGRAPH U--- 4 5 --\n",
    "The four-character code describes some basic properties of the graph. The first character is U if the graph is undirected, D if it is directed. The second letter is N if the graph has a vertex attribute called name, or a dash otherwise. The third letter is W if the graph is weighted (i.e. it has an edge attribute called weight), or a dash otherwise. The fourth letter is B if the graph has a vertex attribute called type; this is usually used for bipartite graphs. The code is followed by the number of vertices and edges, and two dashes (--) and the name of the graph (i.e. the contents of the name attribute, if any).\n",
    "\"\"\"\n",
    "\n",
    "Gi.summary(verbosity=0)  # 'IGRAPH UNW- 1362 1709335 -- \\n+ attr: name (v), edge_ID (e), weight (e)'"
   ]
  },
  {
   "cell_type": "code",
   "execution_count": 18,
   "metadata": {},
   "outputs": [
    {
     "name": "stdout",
     "output_type": "stream",
     "text": [
      "[883, 835, 2183]\n",
      "[622802478.0, 622763875.0, 1091244866.0]\n",
      "True False False\n",
      "True False True\n",
      "[858, 835, 1128]\n",
      "[622802478.0, 622763875.0, 1091244866.0]\n"
     ]
    },
    {
     "data": {
      "text/plain": [
       "'IGRAPH UNW- 1358 635829 -- \\n+ attr: name (v), weight (e)'"
      ]
     },
     "execution_count": 18,
     "metadata": {},
     "output_type": "execute_result"
    }
   ],
   "source": [
    "# First simplify the multigraph by summing edge weights between vertices... test a few weights to be sure simplification is working (note that degree does noy inclue weights in iGraph... it is just the number of edges.  Use \"strength\" to calculate sum of edge weights from a vertex)\n",
    "print(Gi.degree([0, 2, 13]))  # test = [883, 835, 2364] for reweighted 650 keyword graph\n",
    "print(Gi.strength([0, 2, 13], mode='all', loops=True, weights='weight'))  # test = [779463027.0, 779419060.0, 1373432890.0] for reweighted gamma-650 keyword graph\n",
    "print(Gi.is_weighted(), Gi.is_directed(), Gi.is_simple())  # --> True False False\n",
    "\n",
    "Gi.simplify(combine_edges={\"weight\":sum})  #{ig.Edge.attributes[\"weight\"]: sum, ig.Edge.attributes[\"edge_ID\"]: max})  # --> 0.9 sec for 650 keywords; 1_709_335 edges\n",
    "\n",
    "print(Gi.is_weighted(), Gi.is_directed(), Gi.is_simple())  # --> True False True\n",
    "print(Gi.degree([0, 2, 13]))  # test = [858, 835, 1153] for simplified reweighted 650 keyword graph... fewer edges=good\n",
    "print(Gi.strength([0, 2, 13], mode='all', loops=True, weights='weight'))  # [779463027.0, 779419060.0, 1373432890.0]\n",
    "Gi.summary(verbosity=0)  # 'IGRAPH UNW- 1362 685991 -- \\n+ attr: name (v), weight (e)'"
   ]
  },
  {
   "cell_type": "code",
   "execution_count": 19,
   "metadata": {},
   "outputs": [],
   "source": [
    "def Get_Communities(graph: Graph, funct: ig.clustering, is_VertexCluster: bool, **kwargs: dict) -> tuple[Union[ig.clustering.VertexClustering, ig.clustering.Dendrogram], float, float]:\n",
    "    \"\"\"\n",
    "    Get_Communities -- Use the specified iGraph community detection function to get the communities in the graph, and return the communities, the elapsed time, and the modularity of the communities\n",
    "\n",
    "    Arguments:\n",
    "        graph {Graph} -- The graph to get the communities for.  Expected to be an undirected simple graph with edge weights. (simplified multigraph)\n",
    "        funct {iGraph Clustering Method} -- The iGraph community detection function to use to get the communities\n",
    "        is_VertexCluster {bool} -- True if the function returns a VertexClustering, False if it returns a Dendrogram\n",
    "        kwargs {dict} -- Any additional arguments to pass to the function\n",
    "\n",
    "    Returns:\n",
    "        comms {Union(VertexClustering | Dendrogram)} -- The communities found by the function\n",
    "        elapsed_time {float} -- The elapsed time in seconds to find the communities\n",
    "        Q {float} -- The modularity of the communities\n",
    "    \"\"\"\n",
    "    start_time = time.time()\n",
    "    comms = funct(graph, **kwargs)\n",
    "    elapsed_time = time.time() - start_time\n",
    "    if not is_VertexCluster:\n",
    "        comms = comms.as_clustering() # comms as a Dendrogram\n",
    "    Q = graph.modularity(comms, weights='weight', directed=False)  # comms as a Vertex Cluster\n",
    "    print(f\"Time: {elapsed_time:.2f} sec;  Q: {Q:.3f} -- {funct.__name__}; Clusters: {comms.summary()}\")\n",
    "    return comms, elapsed_time, Q"
   ]
  },
  {
   "cell_type": "code",
   "execution_count": 20,
   "metadata": {},
   "outputs": [
    {
     "name": "stdout",
     "output_type": "stream",
     "text": [
      "Time: 11.80 sec;  Q: 0.061 -- _community_walktrap; Clusters: Clustering with 1358 elements and 7 clusters\n",
      "hi\n",
      "Time: 3.11 sec;  Q: 0.086 -- _community_leiden; Clusters: Clustering with 1358 elements and 3 clusters\n",
      "Time: 0.88 sec;  Q: 0.081 -- _community_multilevel; Clusters: Clustering with 1358 elements and 3 clusters\n",
      "Time: 2.20 sec;  Q: 0.077 -- _community_leading_eigenvector; Clusters: Clustering with 1358 elements and 3 clusters\n",
      "Time: 0.27 sec;  Q: 0.000 -- _community_label_propagation; Clusters: Clustering with 1358 elements and 1 clusters\n",
      "Time: 10.54 sec;  Q: 0.000 -- _community_infomap; Clusters: Clustering with 1358 elements and 1 clusters\n",
      "Time: 2.15 sec;  Q: 0.077 -- _community_fastgreedy; Clusters: Clustering with 1358 elements and 4 clusters\n"
     ]
    }
   ],
   "source": [
    "cluster_options = [\n",
    "    # {'function': Graph.community_spinglass, 'is_VertexCluster': True, 'kwargs': {'weights': 'weight', 'spins': 300}},\n",
    "    {'function': Graph.community_walktrap, 'is_VertexCluster': False, 'kwargs': {'weights': 'weight', 'steps': 3}},\n",
    "    {'function': Graph.community_leiden, 'is_VertexCluster': True, 'kwargs': {'objective_function': 'modularity', 'weights': 'weight', 'n_iterations': 20}},\n",
    "    {'function': Graph.community_multilevel, 'is_VertexCluster': True, 'kwargs': {'weights': 'weight', 'return_levels': False}},\n",
    "    {'function': Graph.community_leading_eigenvector, 'is_VertexCluster': True, 'kwargs': {'weights': 'weight', \"clusters\": 10}},\n",
    "    {'function': Graph.community_label_propagation, 'is_VertexCluster': True, 'kwargs': {'weights': 'weight'}},\n",
    "    {'function': Graph.community_infomap, 'is_VertexCluster': True, 'kwargs': {'edge_weights': 'weight', 'trials': 25}},\n",
    "    {'function': Graph.community_fastgreedy, 'is_VertexCluster': False, 'kwargs': {'weights': 'weight'}}\n",
    "    # {'function': Graph.community_edge_betweenness, 'is_VertexCluster': False, 'kwargs': {'weights': 'weight', 'directed': False}},  # takes more than 9 hours; skip\n",
    "    # {'function': Graph.community_optimal_modularity, 'is_VertexCluster': False, 'kwargs': {'weights': 'weight'}}, # NOTE: returns a tuple with clusters, Q; not suited for N>100 nodes\n",
    "]\n",
    "\n",
    "for c in cluster_options:\n",
    "    # c['function'] = c['function'].__func__  # convert the method to a function\n",
    "    if c['function'].__name__ == '_community_leiden':\n",
    "        c['kwargs']['initial_membership'] = comms.membership  # use the previous community detection method as the initial membership for the next method\n",
    "        print('hi')\n",
    "    comms, delay, mod = Get_Communities(Gi, c['function'], c['is_VertexCluster'], **c['kwargs'])"
   ]
  },
  {
   "cell_type": "code",
   "execution_count": 21,
   "metadata": {},
   "outputs": [
    {
     "ename": "SyntaxError",
     "evalue": "invalid syntax (3655555748.py, line 16)",
     "output_type": "error",
     "traceback": [
      "\u001b[1;36m  Cell \u001b[1;32mIn[21], line 16\u001b[1;36m\u001b[0m\n\u001b[1;33m    top 400 kws:\u001b[0m\n\u001b[1;37m        ^\u001b[0m\n\u001b[1;31mSyntaxError\u001b[0m\u001b[1;31m:\u001b[0m invalid syntax\n"
     ]
    }
   ],
   "source": [
    "# Partition the graph into communities using various methods to see if one is better than another\n",
    "# cluster_options = [\n",
    "#     Graph.community_multilevel, \n",
    "#     Graph.community_leiden, \n",
    "#     Graph.community_leading_eigenvector, \n",
    "#     Graph.community_infomap, \n",
    "#     Graph.community_fastgreedy, \n",
    "#     Graph.community_walktrap, \n",
    "#     Graph.community_spinglass, \n",
    "#     Graph.community_label_propagation] # not including community_edge_betweenness because it takes too long\n",
    "\n",
    "top 400 kws:\n",
    "Time: 19.15 sec;  Q: 0.019 -- _community_walktrap; Clusters: Clustering with 1367 elements and 2 clusters\n",
    "hi\n",
    "Time: 5.60 sec;  Q: 0.021 -- _community_leiden; Clusters: Clustering with 1367 elements and 2 clusters\n",
    "Time: 1.63 sec;  Q: 0.021 -- _community_multilevel; Clusters: Clustering with 1367 elements and 3 clusters\n",
    "Time: 2.72 sec;  Q: 0.021 -- _community_leading_eigenvector; Clusters: Clustering with 1367 elements and 2 clusters\n",
    "Time: 0.31 sec;  Q: 0.000 -- _community_label_propagation; Clusters: Clustering with 1367 elements and 1 clusters\n",
    "Time: 14.87 sec;  Q: 0.000 -- _community_infomap; Clusters: Clustering with 1367 elements and 1 clusters\n",
    "Time: 4.98 sec;  Q: 0.021 -- _community_fastgreedy; Clusters: Clustering with 1367 elements and 2 clusters\n",
    "\n",
    "\n",
    "top 800 kws:\n",
    "Time: 18.64 sec;  Q: 0.012 -- _community_walktrap; Clusters: Clustering with 1367 elements and 4 clusters\n",
    "hi\n",
    "Time: 4.87 sec;  Q: 0.021 -- _community_leiden; Clusters: Clustering with 1367 elements and 3 clusters\n",
    "Time: 1.28 sec;  Q: 0.022 -- _community_multilevel; Clusters: Clustering with 1367 elements and 3 clusters\n",
    "Time: 2.65 sec;  Q: 0.021 -- _community_leading_eigenvector; Clusters: Clustering with 1367 elements and 2 clusters\n",
    "Time: 0.32 sec;  Q: 0.000 -- _community_label_propagation; Clusters: Clustering with 1367 elements and 1 clusters\n",
    "Time: 14.71 sec;  Q: 0.000 -- _community_infomap; Clusters: Clustering with 1367 elements and 1 clusters\n",
    "Time: 4.86 sec;  Q: 0.022 -- _community_fastgreedy; Clusters: Clustering with 1367 elements and 2 clusters\n",
    "\n",
    "top 650 kws:\n",
    "Time: 19.86 sec;  Q: 0.012 -- _community_walktrap; Clusters: Clustering with 1367 elements and 4 clusters\n",
    "hi\n",
    "Time: 5.70 sec;  Q: 0.022 -- _community_leiden; Clusters: Clustering with 1367 elements and 2 clusters\n",
    "Time: 1.60 sec;  Q: 0.022 -- _community_multilevel; Clusters: Clustering with 1367 elements and 3 clusters\n",
    "Time: 2.51 sec;  Q: 0.021 -- _community_leading_eigenvector; Clusters: Clustering with 1367 elements and 2 clusters\n",
    "Time: 0.31 sec;  Q: 0.000 -- _community_label_propagation; Clusters: Clustering with 1367 elements and 1 clusters\n",
    "Time: 15.24 sec;  Q: 0.000 -- _community_infomap; Clusters: Clustering with 1367 elements and 1 clusters\n",
    "Time: 5.02 sec;  Q: 0.022 -- _community_fastgreedy; Clusters: Clustering with 1367 elements and 2 clusters\n",
    "\n",
    "random gamma 650 kws\n",
    "\n",
    "Time: 15.01 sec;  Q: 0.057 -- _community_walktrap; Clusters: Clustering with 1362 elements and 4 clusters\n",
    "hi\n",
    "Time: 3.73 sec;  Q: 0.081 -- _community_leiden; Clusters: Clustering with 1362 elements and 3 clusters\n",
    "Time: 0.99 sec;  Q: 0.081 -- _community_multilevel; Clusters: Clustering with 1362 elements and 3 clusters\n",
    "Time: 2.71 sec;  Q: 0.073 -- _community_leading_eigenvector; Clusters: Clustering with 1362 elements and 3 clusters\n",
    "Time: 0.23 sec;  Q: 0.000 -- _community_label_propagation; Clusters: Clustering with 1362 elements and 1 clusters\n",
    "Time: 11.45 sec;  Q: 0.000 -- _community_infomap; Clusters: Clustering with 1362 elements and 1 clusters\n",
    "Time: 2.53 sec;  Q: 0.076 -- _community_fastgreedy; Clusters: Clustering with 1362 elements and 3 clusters\n",
    "\n",
    "Time: 18.56 sec;  Q: 0.057 -- _community_walktrap; Clusters: Clustering with 1362 elements and 6 clusters\n",
    "Time: 1.14 sec;  Q: 0.078 -- _community_multilevel; Clusters: Clustering with 1362 elements and 3 clusters\n",
    "Time: 1.86 sec;  Q: 0.075 -- _community_leiden; Clusters: Clustering with 1362 elements and 4 clusters\n",
    "Time: 2.61 sec;  Q: 0.073 -- _community_leading_eigenvector; Clusters: Clustering with 1362 elements and 3 clusters\n",
    "Time: 0.18 sec;  Q: 0.000 -- _community_label_propagation; Clusters: Clustering with 1362 elements and 1 clusters\n",
    "Time: 11.63 sec;  Q: 0.000 -- _community_infomap; Clusters: Clustering with 1362 elements and 1 clusters\n",
    "Time: 2.92 sec;  Q: 0.076 -- _community_fastgreedy; Clusters: Clustering with 1362 elements and 3 clusters\n",
    "\n",
    "Time: 1.16 sec;  Q: 0.070 -- _community_multilevel\n",
    "Time: 1.78 sec;  Q: 0.081 -- _community_leiden\n",
    "Time: 2.39 sec;  Q: 0.073 -- _community_leading_eigenvector\n",
    "Time: 11.57 sec;  Q: 0.000 -- _community_infomap\n",
    "\n",
    "Time: 1.30 sec;  Q: 0.081 -- _community_multilevel; Clusters: Clustering with 1362 elements and 3 clusters\n",
    "Time: 2.22 sec;  Q: 0.081 -- _community_leiden; Clusters: Clustering with 1362 elements and 3 clusters\n",
    "Time: 2.41 sec;  Q: 0.073 -- _community_leading_eigenvector; Clusters: Clustering with 1362 elements and 3 clusters\n",
    "Time: 0.20 sec;  Q: 0.000 -- _community_label_propagation; Clusters: Clustering with 1362 elements and 1 clusters\n"
   ]
  },
  {
   "attachments": {},
   "cell_type": "markdown",
   "metadata": {},
   "source": [
    "### To Do: Find optimal method of partitioning communities (speed, modularity value)\n",
    "</br>\n",
    "\n",
    "### Also: Verify modularity close to Shu's reported values for the original experiment"
   ]
  },
  {
   "cell_type": "code",
   "execution_count": null,
   "metadata": {},
   "outputs": [],
   "source": [
    "stop here with KeyErrorrr\n"
   ]
  },
  {
   "attachments": {},
   "cell_type": "markdown",
   "metadata": {},
   "source": [
    "## Several Useful Magic Commands for Jupyter Notebook\n",
    "\n",
    "1. %lsmagic -- List currently available magic functions.\n",
    "\n",
    "    * %quickref -- This magic command explains all the magic command that exists in the Jupyter Notebook with detail.  \n",
    "    \n",
    "    <br>  \n",
    "2. %sx -- Shell execute - run shell command and capture output (!! is short-hand).  \n",
    "\n",
    "    * %system -- Shell execute - run shell command and capture output (!! is short-hand).  \n",
    "    \n",
    "    <br>  \n",
    "3. %run -- Run a file.  \n",
    "\n",
    "    * You can run a python file from your jupyter notebook using the following code:  %run \\<file name\\>  \n",
    "    \n",
    "    <br>  \n",
    "4. %reload_ext -- Reload an IPython extension by its module name.  \n",
    "  \n",
    "\n",
    "5. %macro -- Define a macro for future re-execution.  It accepts ranges of history....  \n",
    "  \n",
    "\n",
    "6. %reset -- Resets the namespace by removing all names defined by the user, if...  \n",
    "\n",
    "    * %reset_selective -- Resets the namespace by removing names defined by the user.  \n",
    "    \n",
    "    <br>  \n",
    "7. %page -- Display the object as a page of formatted text.  \n",
    "  \n",
    "  \n",
    "8. %pdoc -- Print the docstring for an object.  \n",
    "  \n",
    "  \n",
    "9. %pfile -- Print the source code for an object.  It finds the file where an object is defined.  \n",
    "  \n",
    "  \n",
    "7. %psource -- Print (or run through pager) the source code for an object.  This is similar to the built-in help() function, but with some extra features.  \n",
    "  \n",
    "    * %psource \\<object name\\>  \n",
    "    \n",
    "    <br>  \n",
    "8. %pprint -- Toggle pretty printing on/off.  \n",
    "\n",
    "    * %precision -- Set floating point precision for pretty printing.  \n",
    "    \n",
    "    <br>  \n",
    "9. %%time -- Time a cell.  \n",
    "  \n",
    "10. %prun -- Run a statement through the python code profiler.  Another magic command that has something to do with time, %prun is a specific magic command to evaluate how much time your subfunctions are involved to execute each function.  What is amazing about %prun is that shows the table where you could see the number of times each internal function was called within the statement, the time each call took, and the cumulative time of all runs of the function. It also shows the total time for the statement.  \n",
    "\n",
    "    * %prun sns.load_dataset('mpg')  \n",
    "\n",
    "    <br>  \n",
    "11. %time -- Time execution of a Python statement or expression.  \n",
    "\n",
    "    * %timeit -- Time execution of a Python statement or expression  \n",
    "    * %timeit \\<your code\\>  \n",
    "    <br> If you want to time a single line of code, you can use the %timeit magic command. This will time how long it takes to run the code. You can also use the -n option to specify the number of times you want to run the code. You can also use the -r option to specify the number of times you want to repeat the timing.  \n",
    "    <br>  \n",
    "12. %memit -- If you want to measure the memory usage of a single line of code, you can use the %memit magic command. This will measure the memory usage of the code. You can also use the -n option to specify the number of times you want to run the code. You can also use the -r option to specify the number of times you want to repeat the timing.  \n",
    "\n",
    "15. %lprun -- If you want to profile a single line of code, you can use the %lprun magic command. This will open the line profiler and you can use the commands to inspect the code. You can use the following commands to navigate through the code.  \n",
    "\n",
    "    * n – next line\n",
    "    * s – step into function\n",
    "    * c – continue until next breakpoint\n",
    "    * q – quit debugger  \n",
    "\n",
    "    <br>  \n",
    "16. %mprun -- If you want to profile memory usage of a single line of code, you can use the %mprun magic command. This will open the memory profiler and you can use the commands to inspect the code. You can use the above commands to navigate through the code.  \n",
    "  \n",
    "\n",
    "17. %who -- List all variables defined within the current notebook.  You can pass it a data type after command name to list only variables of the specific data type. Or, can append _ls to get a sorted list, or append 's' to get extra info    \n",
    "\n",
    "    * %who str, %who list\n",
    "    * %who_ls -- Return a sorted list of all interactive variables.\n",
    "    * %whos -- Like %who, but gives some extra information about each variable.  \n",
    "    * %pinfo -- even more detailed information about the variable such as type, value, string form, and docstring. --> %pinfo <variable>\n",
    "    * %pinfo2 -- provides yet more detailed info than pinfo  \n",
    "\n",
    "    <br>  \n",
    "18. %xdel -- Delete a variable, trying to clear it from anywhere that...  \n",
    "  \n",
    "\n",
    "19. %env -- List all environmental variables, and set environmental variables.  \n",
    "\n",
    "    * %set_env also works for setting variables, similar to:  %env NEW_VAR=Users/konki  \n",
    "\n",
    "    <br>  \n",
    "20. %load -- Load code into the current frontend.  \n",
    "\n",
    "    * %load_ext -- Load an IPython extension by its module name.  \n",
    "    * %loadpy -- Alias of \\`%load\\`  \n",
    "    \n",
    "    <br> This is a very useful command if you already have a python file with certain functions defined and you need to use them in the current notebook.  In order to illustrate we take an example of the file rectangle.py which consists of the following code.  \n",
    "    ```\n",
    "    def calculate_area(len, height):  \n",
    "        return len * height * 2  \n",
    "    ```\n",
    "    <br> You can load the file content by executing the code:  %load rectangle.py\n",
    "    <br> Once you run the cell you should get the content of the file within the cell.  Now just run the cell with the loaded code and you will be able to use the functions that were defined within the original file. You can now calculate the rectangle area.  \n",
    "    ```\n",
    "    calculate_area(2,4)  \n",
    "    ```  \n",
    "    <br>  \n",
    "21. %pycat -- Read a Python file into your Jupyter Notebook... You could do it as well using the %pycat magic command, like:  %pycat rectangle.py  \n",
    "  \n",
    "22. %%writefile -- What if you already have all that amazing function you code and want to save it in the python file. Sure, you can open another IDE and copy+paste the file, but there is an easier way to do it. We can use the magic command %%writefile to achieve the same result.  \n",
    "    ```\n",
    "    %%writefile test.py  \n",
    "    def number_awesome(x):  \n",
    "        return 9  \n",
    "    ```  \n",
    "    \n",
    "    <br>  \n",
    "23. %store -- What if you work on a project in one notebook and want to pass around the variables you had into another notebook. You do not need to pickle it or save it in some object file.  <br>Our previous Jupyter Notebook has the ‘df’ variable containing the mpg data frame. Should I want to move this ‘df’ variable into another Notebook, I only need to type \\<%store df\\>. This will store the variable ‘df’ into the memory of the current kernel. Now, I can move to another Notebook and type \\<%store -r df\\>. This will retrieve the variable ‘df’ from the memory of the current kernel. You can also use the -d option to delete the variable from the memory of the current kernel.  \n",
    "  \n",
    "24. %debug -- If you have an error in your code, you can use the %debug magic command to debug it. This will open the debugger and you can use the commands to inspect the error. You can use the following commands to navigate through the code.  \n",
    "\n",
    "    * n – next line\n",
    "    * s – step into function\n",
    "    * c – continue until next breakpoint\n",
    "    * q – quit debugger  \n",
    "    \n",
    "    <br>  \n",
    "25. %pdb -- If you want to automatically open the debugger when an error occurs, you can use the %pdb magic command. This will automatically open the debugger when an error occurs. You can use the above commands to navigate through the code.  \n"
   ]
  },
  {
   "cell_type": "code",
   "execution_count": null,
   "metadata": {},
   "outputs": [
    {
     "name": "stdout",
     "output_type": "stream",
     "text": [
      "Early Exit\n"
     ]
    },
    {
     "ename": "AssertionError",
     "evalue": "",
     "output_type": "error",
     "traceback": [
      "\u001b[1;31m---------------------------------------------------------------------------\u001b[0m",
      "\u001b[1;31mUserWarning\u001b[0m                               Traceback (most recent call last)",
      "Cell \u001b[1;32mIn[11], line 5\u001b[0m\n\u001b[0;32m      4\u001b[0m         \u001b[39mif\u001b[39;00m i \u001b[39m==\u001b[39m \u001b[39m1\u001b[39m:\n\u001b[1;32m----> 5\u001b[0m             \u001b[39mraise\u001b[39;00m \u001b[39mUserWarning\u001b[39;00m(\u001b[39m'\u001b[39m\u001b[39mExit Early\u001b[39m\u001b[39m'\u001b[39m)\n\u001b[0;32m      6\u001b[0m \u001b[39mexcept\u001b[39;00m:\n",
      "\u001b[1;31mUserWarning\u001b[0m: Exit Early",
      "\nDuring handling of the above exception, another exception occurred:\n",
      "\u001b[1;31mSystemExit\u001b[0m                                Traceback (most recent call last)",
      "    \u001b[1;31m[... skipping hidden 1 frame]\u001b[0m\n",
      "Cell \u001b[1;32mIn[11], line 8\u001b[0m\n\u001b[0;32m      7\u001b[0m     \u001b[39mprint\u001b[39m(\u001b[39m'\u001b[39m\u001b[39mEarly Exit\u001b[39m\u001b[39m'\u001b[39m)\n\u001b[1;32m----> 8\u001b[0m     sys\u001b[39m.\u001b[39;49mexit()\n\u001b[0;32m     10\u001b[0m \u001b[39m# I had the same question and found a very simple solution here:\u001b[39;00m\n\u001b[0;32m     11\u001b[0m \u001b[39m# There is a surprisingly simple way to turn off specific cells in Jupyter Notebook without having to manually comment-out chunks of code.\u001b[39;00m\n\u001b[0;32m     12\u001b[0m \n\u001b[1;32m   (...)\u001b[0m\n\u001b[0;32m     15\u001b[0m \n\u001b[0;32m     16\u001b[0m \u001b[39m# In the command mode (toggle via the Esc key) press r in the keyboard, the cell won't be run. To make it active again press Esc+y.\u001b[39;00m\n",
      "\u001b[1;31mSystemExit\u001b[0m: ",
      "\nDuring handling of the above exception, another exception occurred:\n",
      "\u001b[1;31mAssertionError\u001b[0m                            Traceback (most recent call last)",
      "    \u001b[1;31m[... skipping hidden 1 frame]\u001b[0m\n",
      "File \u001b[1;32m~\\miniconda3\\Lib\\site-packages\\IPython\\core\\interactiveshell.py:2047\u001b[0m, in \u001b[0;36mInteractiveShell.showtraceback\u001b[1;34m(self, exc_tuple, filename, tb_offset, exception_only, running_compiled_code)\u001b[0m\n\u001b[0;32m   2044\u001b[0m \u001b[39mif\u001b[39;00m exception_only:\n\u001b[0;32m   2045\u001b[0m     stb \u001b[39m=\u001b[39m [\u001b[39m'\u001b[39m\u001b[39mAn exception has occurred, use \u001b[39m\u001b[39m%\u001b[39m\u001b[39mtb to see \u001b[39m\u001b[39m'\u001b[39m\n\u001b[0;32m   2046\u001b[0m            \u001b[39m'\u001b[39m\u001b[39mthe full traceback.\u001b[39m\u001b[39m\\n\u001b[39;00m\u001b[39m'\u001b[39m]\n\u001b[1;32m-> 2047\u001b[0m     stb\u001b[39m.\u001b[39mextend(\u001b[39mself\u001b[39;49m\u001b[39m.\u001b[39;49mInteractiveTB\u001b[39m.\u001b[39;49mget_exception_only(etype,\n\u001b[0;32m   2048\u001b[0m                                                      value))\n\u001b[0;32m   2049\u001b[0m \u001b[39melse\u001b[39;00m:\n\u001b[0;32m   2050\u001b[0m     \u001b[39mtry\u001b[39;00m:\n\u001b[0;32m   2051\u001b[0m         \u001b[39m# Exception classes can customise their traceback - we\u001b[39;00m\n\u001b[0;32m   2052\u001b[0m         \u001b[39m# use this in IPython.parallel for exceptions occurring\u001b[39;00m\n\u001b[0;32m   2053\u001b[0m         \u001b[39m# in the engines. This should return a list of strings.\u001b[39;00m\n",
      "File \u001b[1;32m~\\miniconda3\\Lib\\site-packages\\IPython\\core\\ultratb.py:585\u001b[0m, in \u001b[0;36mListTB.get_exception_only\u001b[1;34m(self, etype, value)\u001b[0m\n\u001b[0;32m    577\u001b[0m \u001b[39mdef\u001b[39;00m \u001b[39mget_exception_only\u001b[39m(\u001b[39mself\u001b[39m, etype, value):\n\u001b[0;32m    578\u001b[0m \u001b[39m    \u001b[39m\u001b[39m\"\"\"Only print the exception type and message, without a traceback.\u001b[39;00m\n\u001b[0;32m    579\u001b[0m \n\u001b[0;32m    580\u001b[0m \u001b[39m    Parameters\u001b[39;00m\n\u001b[1;32m   (...)\u001b[0m\n\u001b[0;32m    583\u001b[0m \u001b[39m    value : exception value\u001b[39;00m\n\u001b[0;32m    584\u001b[0m \u001b[39m    \"\"\"\u001b[39;00m\n\u001b[1;32m--> 585\u001b[0m     \u001b[39mreturn\u001b[39;00m ListTB\u001b[39m.\u001b[39;49mstructured_traceback(\u001b[39mself\u001b[39;49m, etype, value)\n",
      "File \u001b[1;32m~\\miniconda3\\Lib\\site-packages\\IPython\\core\\ultratb.py:452\u001b[0m, in \u001b[0;36mListTB.structured_traceback\u001b[1;34m(self, etype, evalue, etb, tb_offset, context)\u001b[0m\n\u001b[0;32m    449\u001b[0m     chained_exc_ids\u001b[39m.\u001b[39madd(\u001b[39mid\u001b[39m(exception[\u001b[39m1\u001b[39m]))\n\u001b[0;32m    450\u001b[0m     chained_exceptions_tb_offset \u001b[39m=\u001b[39m \u001b[39m0\u001b[39m\n\u001b[0;32m    451\u001b[0m     out_list \u001b[39m=\u001b[39m (\n\u001b[1;32m--> 452\u001b[0m         \u001b[39mself\u001b[39;49m\u001b[39m.\u001b[39;49mstructured_traceback(\n\u001b[0;32m    453\u001b[0m             etype, evalue, (etb, chained_exc_ids),\n\u001b[0;32m    454\u001b[0m             chained_exceptions_tb_offset, context)\n\u001b[0;32m    455\u001b[0m         \u001b[39m+\u001b[39m chained_exception_message\n\u001b[0;32m    456\u001b[0m         \u001b[39m+\u001b[39m out_list)\n\u001b[0;32m    458\u001b[0m \u001b[39mreturn\u001b[39;00m out_list\n",
      "File \u001b[1;32m~\\miniconda3\\Lib\\site-packages\\IPython\\core\\ultratb.py:1118\u001b[0m, in \u001b[0;36mAutoFormattedTB.structured_traceback\u001b[1;34m(self, etype, value, tb, tb_offset, number_of_lines_of_context)\u001b[0m\n\u001b[0;32m   1116\u001b[0m \u001b[39melse\u001b[39;00m:\n\u001b[0;32m   1117\u001b[0m     \u001b[39mself\u001b[39m\u001b[39m.\u001b[39mtb \u001b[39m=\u001b[39m tb\n\u001b[1;32m-> 1118\u001b[0m \u001b[39mreturn\u001b[39;00m FormattedTB\u001b[39m.\u001b[39;49mstructured_traceback(\n\u001b[0;32m   1119\u001b[0m     \u001b[39mself\u001b[39;49m, etype, value, tb, tb_offset, number_of_lines_of_context)\n",
      "File \u001b[1;32m~\\miniconda3\\Lib\\site-packages\\IPython\\core\\ultratb.py:1012\u001b[0m, in \u001b[0;36mFormattedTB.structured_traceback\u001b[1;34m(self, etype, value, tb, tb_offset, number_of_lines_of_context)\u001b[0m\n\u001b[0;32m   1009\u001b[0m mode \u001b[39m=\u001b[39m \u001b[39mself\u001b[39m\u001b[39m.\u001b[39mmode\n\u001b[0;32m   1010\u001b[0m \u001b[39mif\u001b[39;00m mode \u001b[39min\u001b[39;00m \u001b[39mself\u001b[39m\u001b[39m.\u001b[39mverbose_modes:\n\u001b[0;32m   1011\u001b[0m     \u001b[39m# Verbose modes need a full traceback\u001b[39;00m\n\u001b[1;32m-> 1012\u001b[0m     \u001b[39mreturn\u001b[39;00m VerboseTB\u001b[39m.\u001b[39;49mstructured_traceback(\n\u001b[0;32m   1013\u001b[0m         \u001b[39mself\u001b[39;49m, etype, value, tb, tb_offset, number_of_lines_of_context\n\u001b[0;32m   1014\u001b[0m     )\n\u001b[0;32m   1015\u001b[0m \u001b[39melif\u001b[39;00m mode \u001b[39m==\u001b[39m \u001b[39m'\u001b[39m\u001b[39mMinimal\u001b[39m\u001b[39m'\u001b[39m:\n\u001b[0;32m   1016\u001b[0m     \u001b[39mreturn\u001b[39;00m ListTB\u001b[39m.\u001b[39mget_exception_only(\u001b[39mself\u001b[39m, etype, value)\n",
      "File \u001b[1;32m~\\miniconda3\\Lib\\site-packages\\IPython\\core\\ultratb.py:865\u001b[0m, in \u001b[0;36mVerboseTB.structured_traceback\u001b[1;34m(self, etype, evalue, etb, tb_offset, number_of_lines_of_context)\u001b[0m\n\u001b[0;32m    856\u001b[0m \u001b[39mdef\u001b[39;00m \u001b[39mstructured_traceback\u001b[39m(\n\u001b[0;32m    857\u001b[0m     \u001b[39mself\u001b[39m,\n\u001b[0;32m    858\u001b[0m     etype: \u001b[39mtype\u001b[39m,\n\u001b[1;32m   (...)\u001b[0m\n\u001b[0;32m    862\u001b[0m     number_of_lines_of_context: \u001b[39mint\u001b[39m \u001b[39m=\u001b[39m \u001b[39m5\u001b[39m,\n\u001b[0;32m    863\u001b[0m ):\n\u001b[0;32m    864\u001b[0m \u001b[39m    \u001b[39m\u001b[39m\"\"\"Return a nice text document describing the traceback.\"\"\"\u001b[39;00m\n\u001b[1;32m--> 865\u001b[0m     formatted_exception \u001b[39m=\u001b[39m \u001b[39mself\u001b[39;49m\u001b[39m.\u001b[39;49mformat_exception_as_a_whole(etype, evalue, etb, number_of_lines_of_context,\n\u001b[0;32m    866\u001b[0m                                                            tb_offset)\n\u001b[0;32m    868\u001b[0m     colors \u001b[39m=\u001b[39m \u001b[39mself\u001b[39m\u001b[39m.\u001b[39mColors  \u001b[39m# just a shorthand + quicker name lookup\u001b[39;00m\n\u001b[0;32m    869\u001b[0m     colorsnormal \u001b[39m=\u001b[39m colors\u001b[39m.\u001b[39mNormal  \u001b[39m# used a lot\u001b[39;00m\n",
      "File \u001b[1;32m~\\miniconda3\\Lib\\site-packages\\IPython\\core\\ultratb.py:799\u001b[0m, in \u001b[0;36mVerboseTB.format_exception_as_a_whole\u001b[1;34m(self, etype, evalue, etb, number_of_lines_of_context, tb_offset)\u001b[0m\n\u001b[0;32m    796\u001b[0m \u001b[39massert\u001b[39;00m \u001b[39misinstance\u001b[39m(tb_offset, \u001b[39mint\u001b[39m)\n\u001b[0;32m    797\u001b[0m head \u001b[39m=\u001b[39m \u001b[39mself\u001b[39m\u001b[39m.\u001b[39mprepare_header(etype, \u001b[39mself\u001b[39m\u001b[39m.\u001b[39mlong_header)\n\u001b[0;32m    798\u001b[0m records \u001b[39m=\u001b[39m (\n\u001b[1;32m--> 799\u001b[0m     \u001b[39mself\u001b[39;49m\u001b[39m.\u001b[39;49mget_records(etb, number_of_lines_of_context, tb_offset) \u001b[39mif\u001b[39;00m etb \u001b[39melse\u001b[39;00m []\n\u001b[0;32m    800\u001b[0m )\n\u001b[0;32m    802\u001b[0m frames \u001b[39m=\u001b[39m []\n\u001b[0;32m    803\u001b[0m skipped \u001b[39m=\u001b[39m \u001b[39m0\u001b[39m\n",
      "File \u001b[1;32m~\\miniconda3\\Lib\\site-packages\\IPython\\core\\ultratb.py:854\u001b[0m, in \u001b[0;36mVerboseTB.get_records\u001b[1;34m(self, etb, number_of_lines_of_context, tb_offset)\u001b[0m\n\u001b[0;32m    848\u001b[0m     formatter \u001b[39m=\u001b[39m \u001b[39mNone\u001b[39;00m\n\u001b[0;32m    849\u001b[0m options \u001b[39m=\u001b[39m stack_data\u001b[39m.\u001b[39mOptions(\n\u001b[0;32m    850\u001b[0m     before\u001b[39m=\u001b[39mbefore,\n\u001b[0;32m    851\u001b[0m     after\u001b[39m=\u001b[39mafter,\n\u001b[0;32m    852\u001b[0m     pygments_formatter\u001b[39m=\u001b[39mformatter,\n\u001b[0;32m    853\u001b[0m )\n\u001b[1;32m--> 854\u001b[0m \u001b[39mreturn\u001b[39;00m \u001b[39mlist\u001b[39;49m(stack_data\u001b[39m.\u001b[39;49mFrameInfo\u001b[39m.\u001b[39;49mstack_data(etb, options\u001b[39m=\u001b[39;49moptions))[tb_offset:]\n",
      "File \u001b[1;32m~\\miniconda3\\Lib\\site-packages\\stack_data\\core.py:578\u001b[0m, in \u001b[0;36mFrameInfo.stack_data\u001b[1;34m(cls, frame_or_tb, options, collapse_repeated_frames)\u001b[0m\n\u001b[0;32m    562\u001b[0m \u001b[39m@classmethod\u001b[39m\n\u001b[0;32m    563\u001b[0m \u001b[39mdef\u001b[39;00m \u001b[39mstack_data\u001b[39m(\n\u001b[0;32m    564\u001b[0m         \u001b[39mcls\u001b[39m,\n\u001b[1;32m   (...)\u001b[0m\n\u001b[0;32m    568\u001b[0m         collapse_repeated_frames: \u001b[39mbool\u001b[39m \u001b[39m=\u001b[39m \u001b[39mTrue\u001b[39;00m\n\u001b[0;32m    569\u001b[0m ) \u001b[39m-\u001b[39m\u001b[39m>\u001b[39m Iterator[Union[\u001b[39m'\u001b[39m\u001b[39mFrameInfo\u001b[39m\u001b[39m'\u001b[39m, RepeatedFrames]]:\n\u001b[0;32m    570\u001b[0m \u001b[39m    \u001b[39m\u001b[39m\"\"\"\u001b[39;00m\n\u001b[0;32m    571\u001b[0m \u001b[39m    An iterator of FrameInfo and RepeatedFrames objects representing\u001b[39;00m\n\u001b[0;32m    572\u001b[0m \u001b[39m    a full traceback or stack. Similar consecutive frames are collapsed into RepeatedFrames\u001b[39;00m\n\u001b[1;32m   (...)\u001b[0m\n\u001b[0;32m    576\u001b[0m \u001b[39m    and optionally an Options object to configure.\u001b[39;00m\n\u001b[0;32m    577\u001b[0m \u001b[39m    \"\"\"\u001b[39;00m\n\u001b[1;32m--> 578\u001b[0m     stack \u001b[39m=\u001b[39m \u001b[39mlist\u001b[39;49m(iter_stack(frame_or_tb))\n\u001b[0;32m    580\u001b[0m     \u001b[39m# Reverse the stack from a frame so that it's in the same order\u001b[39;00m\n\u001b[0;32m    581\u001b[0m     \u001b[39m# as the order from a traceback, which is the order of a printed\u001b[39;00m\n\u001b[0;32m    582\u001b[0m     \u001b[39m# traceback when read top to bottom (most recent call last)\u001b[39;00m\n\u001b[0;32m    583\u001b[0m     \u001b[39mif\u001b[39;00m is_frame(frame_or_tb):\n",
      "File \u001b[1;32m~\\miniconda3\\Lib\\site-packages\\stack_data\\utils.py:97\u001b[0m, in \u001b[0;36miter_stack\u001b[1;34m(frame_or_tb)\u001b[0m\n\u001b[0;32m     95\u001b[0m \u001b[39mwhile\u001b[39;00m frame_or_tb:\n\u001b[0;32m     96\u001b[0m     \u001b[39myield\u001b[39;00m frame_or_tb\n\u001b[1;32m---> 97\u001b[0m     \u001b[39mif\u001b[39;00m is_frame(frame_or_tb):\n\u001b[0;32m     98\u001b[0m         frame_or_tb \u001b[39m=\u001b[39m frame_or_tb\u001b[39m.\u001b[39mf_back\n\u001b[0;32m     99\u001b[0m     \u001b[39melse\u001b[39;00m:\n",
      "File \u001b[1;32m~\\miniconda3\\Lib\\site-packages\\stack_data\\utils.py:90\u001b[0m, in \u001b[0;36mis_frame\u001b[1;34m(frame_or_tb)\u001b[0m\n\u001b[0;32m     89\u001b[0m \u001b[39mdef\u001b[39;00m \u001b[39mis_frame\u001b[39m(frame_or_tb: Union[FrameType, TracebackType]) \u001b[39m-\u001b[39m\u001b[39m>\u001b[39m \u001b[39mbool\u001b[39m:\n\u001b[1;32m---> 90\u001b[0m     assert_(\u001b[39misinstance\u001b[39;49m(frame_or_tb, (types\u001b[39m.\u001b[39;49mFrameType, types\u001b[39m.\u001b[39;49mTracebackType)))\n\u001b[0;32m     91\u001b[0m     \u001b[39mreturn\u001b[39;00m \u001b[39misinstance\u001b[39m(frame_or_tb, (types\u001b[39m.\u001b[39mFrameType,))\n",
      "File \u001b[1;32m~\\miniconda3\\Lib\\site-packages\\stack_data\\utils.py:176\u001b[0m, in \u001b[0;36massert_\u001b[1;34m(condition, error)\u001b[0m\n\u001b[0;32m    174\u001b[0m \u001b[39mif\u001b[39;00m \u001b[39misinstance\u001b[39m(error, \u001b[39mstr\u001b[39m):\n\u001b[0;32m    175\u001b[0m     error \u001b[39m=\u001b[39m \u001b[39mAssertionError\u001b[39;00m(error)\n\u001b[1;32m--> 176\u001b[0m \u001b[39mraise\u001b[39;00m error\n",
      "\u001b[1;31mAssertionError\u001b[0m: "
     ]
    }
   ],
   "source": [
    "import sys\n",
    "try:\n",
    "    for i in range(5):\n",
    "        if i == 1:\n",
    "            raise UserWarning('Exit Early')\n",
    "except:\n",
    "    print('Early Exit')\n",
    "    sys.exit()\n",
    "\n",
    "# I had the same question and found a very simple solution here:\n",
    "# There is a surprisingly simple way to turn off specific cells in Jupyter Notebook without having to manually comment-out chunks of code.\n",
    "\n",
    "# The simple solution is to place the cursor into the cell that you want to silence, then press Esc + r. The cell will then transform into “raw” (Raw NBConvert) format and be skipped-over when the entire script is run.\n",
    "# To revert it back, press Esc + y to return it to “code” format for re-inclusion.\n",
    "\n",
    "# In the command mode (toggle via the Esc key) press r in the keyboard, the cell won't be run. To make it active again press Esc+y."
   ]
  }
 ],
 "metadata": {
  "kernelspec": {
   "display_name": "graphs",
   "language": "python",
   "name": "python3"
  },
  "language_info": {
   "codemirror_mode": {
    "name": "ipython",
    "version": 3
   },
   "file_extension": ".py",
   "mimetype": "text/x-python",
   "name": "python",
   "nbconvert_exporter": "python",
   "pygments_lexer": "ipython3",
   "version": "3.10.9"
  },
  "orig_nbformat": 4,
  "vscode": {
   "interpreter": {
    "hash": "db3e3bd2f81671e14eafc4827a6f0aa29722366e48b2a2c874d4e23ee870c51c"
   }
  }
 },
 "nbformat": 4,
 "nbformat_minor": 2
}
